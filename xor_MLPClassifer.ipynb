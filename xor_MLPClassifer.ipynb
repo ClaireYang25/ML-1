{
  "nbformat": 4,
  "nbformat_minor": 0,
  "metadata": {
    "colab": {
      "name": "xor_MLPClassifer.ipynb",
      "provenance": [],
      "authorship_tag": "ABX9TyMh8jAdlvWqA8tPvYheO/1T",
      "include_colab_link": true
    },
    "kernelspec": {
      "name": "python3",
      "display_name": "Python 3"
    }
  },
  "cells": [
    {
      "cell_type": "markdown",
      "metadata": {
        "id": "view-in-github",
        "colab_type": "text"
      },
      "source": [
        "<a href=\"https://colab.research.google.com/github/ibribr/ML/blob/master/xor_MLPClassifer.ipynb\" target=\"_parent\"><img src=\"https://colab.research.google.com/assets/colab-badge.svg\" alt=\"Open In Colab\"/></a>"
      ]
    },
    {
      "cell_type": "code",
      "metadata": {
        "id": "X45XSsWpFyJm",
        "colab_type": "code",
        "colab": {}
      },
      "source": [
        "import numpy as np\n",
        "import matplotlib.pyplot as plt\n",
        "from sklearn.neural_network import MLPClassifier\n",
        "from sklearn.metrics import confusion_matrix"
      ],
      "execution_count": 5,
      "outputs": []
    },
    {
      "cell_type": "code",
      "metadata": {
        "id": "EygFTRjEF3Ie",
        "colab_type": "code",
        "colab": {
          "base_uri": "https://localhost:8080/",
          "height": 387
        },
        "outputId": "fca44212-05fb-41b5-fcea-d85e4f5b9232"
      },
      "source": [
        "x = np.array([[0,0],[0,1],[1,0],[1,1]])\n",
        "y = np.array([0,1,1,0])\n",
        "\n",
        "model = MLPClassifier(activation='logistic',max_iter=10000,hidden_layer_sizes=(2,),solver='lbfgs')\n",
        "model.fit(x, y)\n",
        "\n",
        "y_pred = model.predict(x)\n",
        "\n",
        "print('coefs', model.coefs_)\n",
        "print('predictions:', predictions)\n",
        "\n",
        "error = np.sum(expected_output != predictions)\n",
        "print('errors', error)\n",
        "\n",
        "# confusion matrix\n",
        "cm =confusion_matrix(y, y_pred)\n",
        "\n",
        "plt.figure()\n",
        "plt.matshow(cm)\n",
        "for i in range(cm.shape[0]):\n",
        "  for j in range(cm.shape[1]):\n",
        "    plt.text(x=j, y=i, s=cm[i,j], va='center', ha='center')\n",
        "plt.xlabel('Predicated label')\n",
        "plt.ylabel('Acutal label')\n",
        "plt.show()"
      ],
      "execution_count": 6,
      "outputs": [
        {
          "output_type": "stream",
          "text": [
            "coefs [array([[6.44568126, 6.10504838],\n",
            "       [6.57290478, 6.2467645 ]]), array([[-14.60494378],\n",
            "       [ 14.81344574]])]\n",
            "predictions: [0 1 1 0]\n",
            "errors 0\n"
          ],
          "name": "stdout"
        },
        {
          "output_type": "display_data",
          "data": {
            "text/plain": [
              "<Figure size 432x288 with 0 Axes>"
            ]
          },
          "metadata": {
            "tags": []
          }
        },
        {
          "output_type": "display_data",
          "data": {
            "image/png": "[encoded data removed]",
            "text/plain": [
              "<Figure size 288x288 with 1 Axes>"
            ]
          },
          "metadata": {
            "tags": [],
            "needs_background": "light"
          }
        }
      ]
    }
  ]
}