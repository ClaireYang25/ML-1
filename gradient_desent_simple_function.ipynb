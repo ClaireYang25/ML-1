{
  "nbformat": 4,
  "nbformat_minor": 0,
  "metadata": {
    "colab": {
      "name": "gradient_desent_simple_function.ipynb",
      "provenance": [],
      "authorship_tag": "ABX9TyMRSjsOIsK6ZmEI0WFpXjnm",
      "include_colab_link": true
    },
    "kernelspec": {
      "name": "python3",
      "display_name": "Python 3"
    }
  },
  "cells": [
    {
      "cell_type": "markdown",
      "metadata": {
        "id": "view-in-github",
        "colab_type": "text"
      },
      "source": [
        "<a href=\"https://colab.research.google.com/github/ibribr/ML/blob/master/gradient_desent_simple_function.ipynb\" target=\"_parent\"><img src=\"https://colab.research.google.com/assets/colab-badge.svg\" alt=\"Open In Colab\"/></a>"
      ]
    },
    {
      "cell_type": "code",
      "metadata": {
        "id": "yamLtiIJ8D2f",
        "colab_type": "code",
        "colab": {
          "base_uri": "https://localhost:8080/",
          "height": 313
        },
        "outputId": "2fb1a926-3070-4766-e9d3-e90897e343ec"
      },
      "source": [
        "import numpy as np\n",
        "import matplotlib.pyplot as plt\n",
        "import random \n",
        "\n",
        "def y(x):\n",
        "  return(5*x**2+2*x-3)\n",
        "\n",
        "# analytical solution\n",
        "# dydx = 10*x+2=0 --> 10x =-2, x=-0.2\n",
        "#print(x, y(0.2))\n",
        "\n",
        "# usinng gradient descent\n",
        "x = random.randint(-10, 10)\n",
        "xrand = x\n",
        "print(x)\n",
        "eta = 0.1\n",
        "for i in range(10):\n",
        "  dydx = 10*x+2   #gradient\n",
        "  x += -eta * dydx;\n",
        "\n",
        "xstar = x\n",
        "print(xstar,y(xstar))\n",
        "\n",
        "x = np.arange(-10, 10, 0.1)\n",
        "plt.plot(x,y(x))\n",
        "plt.plot(xstar,y(xstar),'r*')\n",
        "plt.plot(xrand,y(xrand),'go')\n",
        "plt.xlabel('x')\n",
        "plt.ylabel('y')\n",
        "plt.grid()\n",
        "plt.show()"
      ],
      "execution_count": 4,
      "outputs": [
        {
          "output_type": "stream",
          "text": [
            "4\n",
            "-0.2 -3.2\n"
          ],
          "name": "stdout"
        },
        {
          "output_type": "display_data",
          "data": {
            "image/png": "[encoded data removed]",
            "text/plain": [
              "<Figure size 432x288 with 1 Axes>"
            ]
          },
          "metadata": {
            "tags": [],
            "needs_background": "light"
          }
        }
      ]
    },
    {
      "cell_type": "code",
      "metadata": {
        "id": "c9MQeixYJoLj",
        "colab_type": "code",
        "colab": {}
      },
      "source": [
        "#animate GD algorithm: code from Rasmus <openrasmus@gmail.com>\n",
        "!pip install celluloid\n",
        "import matplotlib\n",
        "import matplotlib.pyplot as plt\n",
        "import random\n",
        "from celluloid import Camera"
      ],
      "execution_count": null,
      "outputs": []
    },
    {
      "cell_type": "code",
      "metadata": {
        "id": "eF0_PS0hL94G",
        "colab_type": "code",
        "colab": {
          "base_uri": "https://localhost:8080/",
          "height": 494
        },
        "outputId": "5afa0463-17b2-46db-82aa-5376a93810cd"
      },
      "source": [
        "def f(x):\n",
        "  return(5*x**2+2*x-4)\n",
        "  \n",
        "def dfdx(x):\n",
        "  return(10*x+2)\n",
        "  \n",
        "epochs = 500\n",
        "eta = 0.01\n",
        "xx = np.arange(-100, 100, 0.1)\n",
        "#x = random.randrange(-100, 100, 2)\n",
        "x = -90.0\n",
        "print(x)\n",
        "\n",
        "#plt.close('all')\n",
        "fig = plt.figure()\n",
        "plt.xlabel('x')\n",
        "plt.ylabel('y')\n",
        "camera = Camera(fig)\n",
        "\n",
        "for i in range(epochs):\n",
        "  x += -eta * dfdx(x);    #try: eta/(i+1) \n",
        "  plt.plot(x,f(x),'go')\n",
        "  plt.plot(xx, f(xx), 'b-')\n",
        "  camera.snap()\n",
        "  if np.abs(dfdx(x)) <= 10**-1:\n",
        "    break\n",
        "\n",
        "animation = camera.animate(blit=False)\n",
        "animation.save('gradient_descent.mp4',fps=15)\n",
        "print('animation is ready')"
      ],
      "execution_count": 52,
      "outputs": [
        {
          "output_type": "stream",
          "text": [
            "-90.0\n",
            "animation is ready\n"
          ],
          "name": "stdout"
        },
        {
          "output_type": "error",
          "ename": "NameError",
          "evalue": "ignored",
          "traceback": [
            "\u001b[0;31m---------------------------------------------------------------------------\u001b[0m",
            "\u001b[0;31mNameError\u001b[0m                                 Traceback (most recent call last)",
            "\u001b[0;32m<ipython-input-52-d25319f9d304>\u001b[0m in \u001b[0;36m<module>\u001b[0;34m()\u001b[0m\n\u001b[1;32m     30\u001b[0m \u001b[0mprint\u001b[0m\u001b[0;34m(\u001b[0m\u001b[0;34m'animation is ready'\u001b[0m\u001b[0;34m)\u001b[0m\u001b[0;34m\u001b[0m\u001b[0;34m\u001b[0m\u001b[0m\n\u001b[1;32m     31\u001b[0m \u001b[0;34m\u001b[0m\u001b[0m\n\u001b[0;32m---> 32\u001b[0;31m \u001b[0mls\u001b[0m\u001b[0;34m\u001b[0m\u001b[0;34m\u001b[0m\u001b[0m\n\u001b[0m",
            "\u001b[0;31mNameError\u001b[0m: name 'ls' is not defined"
          ]
        },
        {
          "output_type": "display_data",
          "data": {
            "image/png": "[encoded data removed]",
            "text/plain": [
              "<Figure size 432x288 with 1 Axes>"
            ]
          },
          "metadata": {
            "tags": [],
            "needs_background": "light"
          }
        }
      ]
    },
    {
      "cell_type": "code",
      "metadata": {
        "id": "i8QpidYugXwq",
        "colab_type": "code",
        "colab": {
          "base_uri": "https://localhost:8080/",
          "height": 34
        },
        "outputId": "efa4f6d1-d80d-4b75-8e17-d80a34be1296"
      },
      "source": [
        "ls"
      ],
      "execution_count": 53,
      "outputs": [
        {
          "output_type": "stream",
          "text": [
            "gradient_descent.mp4  \u001b[0m\u001b[01;34msample_data\u001b[0m/\n"
          ],
          "name": "stdout"
        }
      ]
    }
  ]
}