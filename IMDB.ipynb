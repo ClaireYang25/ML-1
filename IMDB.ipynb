{
  "nbformat": 4,
  "nbformat_minor": 0,
  "metadata": {
    "colab": {
      "name": "IMDB.ipynb",
      "provenance": [],
      "collapsed_sections": [],
      "authorship_tag": "ABX9TyNOyB1aqqjRonuHuQGkPVW1",
      "include_colab_link": true
    },
    "kernelspec": {
      "name": "python3",
      "display_name": "Python 3"
    }
  },
  "cells": [
    {
      "cell_type": "markdown",
      "metadata": {
        "id": "view-in-github",
        "colab_type": "text"
      },
      "source": [
        "<a href=\"https://colab.research.google.com/github/ibribr/ML/blob/master/IMDB.ipynb\" target=\"_parent\"><img src=\"https://colab.research.google.com/assets/colab-badge.svg\" alt=\"Open In Colab\"/></a>"
      ]
    },
    {
      "cell_type": "code",
      "metadata": {
        "id": "l373onp9l0ab",
        "colab_type": "code",
        "colab": {}
      },
      "source": [
        "import numpy as np\n",
        "import matplotlib.pyplot as plt\n",
        "from keras.datasets.imdb import load_data\n",
        "from keras.utils import to_categorical\n",
        "from keras.models import Sequential\n",
        "from keras.layers import Dense, Dropout\n",
        "from tensorflow.keras.utils import plot_model\n",
        "from keras.callbacks import EarlyStopping"
      ],
      "execution_count": 52,
      "outputs": []
    },
    {
      "cell_type": "code",
      "metadata": {
        "id": "z2gV6Ab4lpUQ",
        "colab_type": "code",
        "colab": {
          "base_uri": "https://localhost:8080/",
          "height": 116
        },
        "outputId": "4f372470-f22f-4992-9ec1-065d8aff1bab"
      },
      "source": [
        "(xtrain, ytrain), (xtest, ytest) = load_data(num_words=10000)  # keep only the top 10,000 most frequent occuring words, rare words will be discarded.\n",
        "                                                               # xtrain and xtest are lists of reviews encoded as a list of word indices (0 to 9,999)\n",
        "                                                               # reviews as sequences of words turned into sequences of integers, each integer stands for a specific word in a dictionary\n",
        "print(xtrain.shape)\n",
        "print(xtest.shape)\n",
        "print(ytrain.shape)\n",
        "print(len(ytrain))\n",
        "#print(xtrain[0])\n",
        "#print(xtrain[1])\n",
        "\n",
        "print(len(xtrain[0]), len(xtrain[1]))\n",
        "print(ytrain[0])"
      ],
      "execution_count": 53,
      "outputs": [
        {
          "output_type": "stream",
          "text": [
            "(25000,)\n",
            "(25000,)\n",
            "(25000,)\n",
            "25000\n",
            "218 189\n",
            "1\n"
          ],
          "name": "stdout"
        }
      ]
    },
    {
      "cell_type": "code",
      "metadata": {
        "id": "uU0AMrJemDfg",
        "colab_type": "code",
        "colab": {
          "base_uri": "https://localhost:8080/",
          "height": 33
        },
        "outputId": "841d89ab-8456-4667-ca22-f286f1f8884f"
      },
      "source": [
        "# lists or reviews are not of the same length, so pad your lists to have the same length (samples, word_indices)\n",
        "\n",
        "def vectorize(sequences, num_words=10000):\n",
        "  results = np.zeros((len(sequences), num_words))    # a 10,000 dimensional vector of zeros except for word indices\n",
        "  for i, sequence in enumerate(sequences):\n",
        "    results[i, sequence] = 1.\n",
        "  return results\n",
        "\n",
        "x_train = vectorize(xtrain)\n",
        "x_test = vectorize(xtest)\n",
        "\n",
        "print(x_train.shape)\n",
        "\n",
        "y_train = np.asarray(ytrain).astype('float32')\n",
        "y_test = np.asarray(ytest).astype('float32')"
      ],
      "execution_count": 54,
      "outputs": [
        {
          "output_type": "stream",
          "text": [
            "(25000, 10000)\n"
          ],
          "name": "stdout"
        }
      ]
    },
    {
      "cell_type": "code",
      "metadata": {
        "id": "p2NLCX2nuGRJ",
        "colab_type": "code",
        "colab": {
          "base_uri": "https://localhost:8080/",
          "height": 416
        },
        "outputId": "a162c278-2f34-466c-bdbb-6c920f4b872c"
      },
      "source": [
        "model = Sequential()\n",
        "model.add(Dense(512, activation='relu', input_shape=(10000,)))\n",
        "model.add(Dropout(0.8))\n",
        "model.add(Dense(128, activation='relu'))\n",
        "model.add(Dense(1, activation='sigmoid'))\n",
        "\n",
        "model.compile(optimizer='rmsprop', loss='binary_crossentropy', metrics=['accuracy'])\n",
        "\n",
        "# simple early stopping\n",
        "es = EarlyStopping(monitor='val_loss', mode='min', verbose=1)\n",
        "\n",
        "model.summary()\n",
        "plot_model(model, to_file='IMDB.png', show_shapes=True, show_layer_names=True)\n",
        "\n",
        "x_train_ = x_train[:20000]\n",
        "y_train_ = y_train[:20000]\n",
        "x_val = x_train[20000:]\n",
        "y_val = y_train[20000:]\n",
        "\n",
        "# fit model\n",
        "history = model.fit(x_train_, y_train_, epochs=25, batch_size=512, validation_data=(x_val, y_val), shuffle=True, verbose=1, callbacks=[es])\n",
        "res = model.evaluate(x_test, y_test)"
      ],
      "execution_count": 61,
      "outputs": [
        {
          "output_type": "stream",
          "text": [
            "Model: \"sequential_8\"\n",
            "_________________________________________________________________\n",
            "Layer (type)                 Output Shape              Param #   \n",
            "=================================================================\n",
            "dense_22 (Dense)             (None, 512)               5120512   \n",
            "_________________________________________________________________\n",
            "dropout_3 (Dropout)          (None, 512)               0         \n",
            "_________________________________________________________________\n",
            "dense_23 (Dense)             (None, 128)               65664     \n",
            "_________________________________________________________________\n",
            "dense_24 (Dense)             (None, 1)                 129       \n",
            "=================================================================\n",
            "Total params: 5,186,305\n",
            "Trainable params: 5,186,305\n",
            "Non-trainable params: 0\n",
            "_________________________________________________________________\n",
            "Epoch 1/25\n",
            "40/40 [==============================] - 10s 240ms/step - loss: 0.5125 - accuracy: 0.7520 - val_loss: 0.3007 - val_accuracy: 0.8832\n",
            "Epoch 2/25\n",
            "40/40 [==============================] - 9s 233ms/step - loss: 0.3033 - accuracy: 0.8778 - val_loss: 0.2681 - val_accuracy: 0.8934\n",
            "Epoch 3/25\n",
            "40/40 [==============================] - 9s 233ms/step - loss: 0.2374 - accuracy: 0.9079 - val_loss: 0.2727 - val_accuracy: 0.8978\n",
            "Epoch 00003: early stopping\n",
            "782/782 [==============================] - 8s 10ms/step - loss: 0.2791 - accuracy: 0.8910\n"
          ],
          "name": "stdout"
        }
      ]
    },
    {
      "cell_type": "code",
      "metadata": {
        "id": "o_4Qs4rPDE9e",
        "colab_type": "code",
        "colab": {
          "base_uri": "https://localhost:8080/",
          "height": 33
        },
        "outputId": "f3abcf34-907b-4835-9d13-d95ddc116b09"
      },
      "source": [
        "# predict for sentiment\n",
        "y_pred = np.round(model.predict(x_test))\n",
        "#print(y_pred)\n",
        "print('prediction error:', np.sum(y_pred != y_test)/len(y_pred)*100)"
      ],
      "execution_count": 62,
      "outputs": [
        {
          "output_type": "stream",
          "text": [
            "prediction error: 1250000.0\n"
          ],
          "name": "stdout"
        }
      ]
    },
    {
      "cell_type": "code",
      "metadata": {
        "id": "_6C0aGge1XTZ",
        "colab_type": "code",
        "colab": {
          "base_uri": "https://localhost:8080/",
          "height": 700
        },
        "outputId": "6d193c63-d73a-49e7-e5ec-cfe559f00327"
      },
      "source": [
        "history_dict = history.history\n",
        "print(history_dict.keys())\n",
        "\n",
        "train_loss = history_dict['loss']\n",
        "val_loss = history_dict['val_loss']\n",
        "train_acc = history_dict['accuracy']\n",
        "val_acc = history_dict['val_accuracy']\n",
        "\n",
        "epochs = range(1, len(train_loss)+1)\n",
        "\n",
        "plt.figure(figsize=(8, 5))\n",
        "plt.plot(epochs, train_loss, 'bo', label='Training loss')\n",
        "plt.plot(epochs, val_loss, 'b', label='Validation loss')\n",
        "plt.title('Training & validation loss')\n",
        "plt.grid(True)\n",
        "plt.gca().set_ylim(0, 1.5)\n",
        "plt.xlabel('Epochs')\n",
        "plt.ylabel('Loss')\n",
        "plt.legend()\n",
        "plt.show()\n",
        "\n",
        "plt.figure(figsize=(8, 5))\n",
        "plt.plot(epochs, train_acc, 'bo', label='Training acc')\n",
        "plt.plot(epochs, val_acc, 'b', label='Validation acc')\n",
        "plt.title('Training & validation accuracy')\n",
        "plt.grid(True)\n",
        "plt.gca().set_ylim(0, 1.5)\n",
        "plt.xlabel('Epochs')\n",
        "plt.ylabel('Accuracy')\n",
        "plt.legend()\n",
        "plt.show()\n",
        "\n"
      ],
      "execution_count": 63,
      "outputs": [
        {
          "output_type": "stream",
          "text": [
            "dict_keys(['loss', 'accuracy', 'val_loss', 'val_accuracy'])\n"
          ],
          "name": "stdout"
        },
        {
          "output_type": "display_data",
          "data": {
            "image/png": "[encoded data removed]",
            "text/plain": [
              "<Figure size 576x360 with 1 Axes>"
            ]
          },
          "metadata": {
            "tags": [],
            "needs_background": "light"
          }
        },
        {
          "output_type": "display_data",
          "data": {
            "image/png": "[encoded data removed]",
            "text/plain": [
              "<Figure size 576x360 with 1 Axes>"
            ]
          },
          "metadata": {
            "tags": [],
            "needs_background": "light"
          }
        }
      ]
    }
  ]
}