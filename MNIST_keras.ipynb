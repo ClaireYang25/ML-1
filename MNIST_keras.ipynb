{
  "nbformat": 4,
  "nbformat_minor": 0,
  "metadata": {
    "colab": {
      "name": "MNIST_keras.ipynb",
      "provenance": [],
      "collapsed_sections": [],
      "authorship_tag": "ABX9TyO+R4+lzkaXhBlfARCOfbxh",
      "include_colab_link": true
    },
    "kernelspec": {
      "name": "python3",
      "display_name": "Python 3"
    }
  },
  "cells": [
    {
      "cell_type": "markdown",
      "metadata": {
        "id": "view-in-github",
        "colab_type": "text"
      },
      "source": [
        "<a href=\"https://colab.research.google.com/github/ibribr/ML/blob/master/MNIST_keras.ipynb\" target=\"_parent\"><img src=\"https://colab.research.google.com/assets/colab-badge.svg\" alt=\"Open In Colab\"/></a>"
      ]
    },
    {
      "cell_type": "code",
      "metadata": {
        "id": "3j5hJefnmY60",
        "colab_type": "code",
        "colab": {}
      },
      "source": [
        "# MLP for MNIST\n",
        "import numpy as np\n",
        "import matplotlib.pyplot as plt\n",
        "from matplotlib.colors import ListedColormap\n",
        "import keras\n",
        "from keras.datasets import mnist\n",
        "from keras.models import Sequential\n",
        "from keras.layers import Dense\n",
        "from keras.utils import to_categorical\n",
        "from sklearn.metrics import confusion_matrix, precision_score, recall_score"
      ],
      "execution_count": null,
      "outputs": []
    },
    {
      "cell_type": "code",
      "metadata": {
        "id": "P0RdJ0B1mfHM",
        "colab_type": "code",
        "colab": {
          "base_uri": "https://localhost:8080/",
          "height": 261
        },
        "outputId": "276d3b41-1463-4699-f628-6921915a41fa"
      },
      "source": [
        "(x_train, y_train), (x_test, y_test)=mnist.load_data()  #60000 samples for training, 10000 samples for testing\n",
        "\n",
        "print('train:', x_train.shape, y_train.shape)\n",
        "print('Test set:', x_test.shape, y_test.shape)\n",
        "\n",
        "# visualize some\n",
        "fig, ax = plt.subplots(2,5,sharex=True,sharey=True)\n",
        "ax = ax.flatten()\n",
        "for i in range(10):\n",
        "  ax[i].imshow(x_train[i,:], cmap='binary')\n",
        "plt.show()\n",
        "\n",
        "# prepare the data for training\n",
        "x_train = x_train.reshape(60000,28*28)\n",
        "x_train = x_train.astype('float32')/255\n",
        "x_test = x_test.reshape(10000,28*28)\n",
        "x_test = x_test.astype('float32')/255\n",
        "y_train = to_categorical(y_train)\n",
        "y_test = to_categorical(y_test)"
      ],
      "execution_count": null,
      "outputs": [
        {
          "output_type": "stream",
          "text": [
            "train: (60000, 28, 28) (60000,)\n",
            "Test set: (10000, 28, 28) (10000,)\n"
          ],
          "name": "stdout"
        },
        {
          "output_type": "display_data",
          "data": {
            "image/png": "[encoded data removed]",
            "text/plain": [
              "<Figure size 432x288 with 10 Axes>"
            ]
          },
          "metadata": {
            "tags": [],
            "needs_background": "light"
          }
        }
      ]
    },
    {
      "cell_type": "code",
      "metadata": {
        "id": "Q99eoDRlnCJJ",
        "colab_type": "code",
        "colab": {
          "base_uri": "https://localhost:8080/",
          "height": 1000
        },
        "outputId": "5c64d3cd-712b-4abb-a982-3962fd4044c3"
      },
      "source": [
        "# classification model\n",
        "input_shape=x_train.shape[1]\n",
        "num_classes = y_train.shape[1]\n",
        "model = Sequential()\n",
        "model.add(Dense(350, activation='relu', input_shape=(28*28,)))\n",
        "model.add(Dense(50, activation='relu'))\n",
        "model.add(Dense(num_classes, activation='softmax'))\n",
        "\n",
        "model.compile(loss='categorical_crossentropy', optimizer='adam', metrics=['accuracy'])\n",
        "model.summary()\n",
        "\n",
        "model.fit(x_train, y_train, epochs=100, batch_size=512, verbose=1, validation_split=0.2)\n",
        "\n",
        "# Test the model after training\n",
        "test_results = model.evaluate(x_test, y_test, verbose=1)\n",
        "\n",
        "print(f'Test results \\n - Loss    : {test_results[0]: 0.3f}  \\n - Accuracy: {test_results[1]: 0.3f}')"
      ],
      "execution_count": null,
      "outputs": [
        {
          "output_type": "stream",
          "text": [
            "Model: \"sequential\"\n",
            "_________________________________________________________________\n",
            "Layer (type)                 Output Shape              Param #   \n",
            "=================================================================\n",
            "dense (Dense)                (None, 350)               274750    \n",
            "_________________________________________________________________\n",
            "dense_1 (Dense)              (None, 50)                17550     \n",
            "_________________________________________________________________\n",
            "dense_2 (Dense)              (None, 10)                510       \n",
            "=================================================================\n",
            "Total params: 292,810\n",
            "Trainable params: 292,810\n",
            "Non-trainable params: 0\n",
            "_________________________________________________________________\n",
            "Epoch 1/100\n",
            "94/94 [==============================] - 2s 19ms/step - loss: 0.5151 - accuracy: 0.8555 - val_loss: 0.2104 - val_accuracy: 0.9433\n",
            "Epoch 2/100\n",
            "94/94 [==============================] - 2s 17ms/step - loss: 0.1820 - accuracy: 0.9488 - val_loss: 0.1515 - val_accuracy: 0.9573\n",
            "Epoch 3/100\n",
            "94/94 [==============================] - 2s 17ms/step - loss: 0.1269 - accuracy: 0.9642 - val_loss: 0.1282 - val_accuracy: 0.9639\n",
            "Epoch 4/100\n",
            "94/94 [==============================] - 2s 18ms/step - loss: 0.0966 - accuracy: 0.9725 - val_loss: 0.1145 - val_accuracy: 0.9666\n",
            "Epoch 5/100\n",
            "94/94 [==============================] - 2s 17ms/step - loss: 0.0748 - accuracy: 0.9790 - val_loss: 0.1016 - val_accuracy: 0.9707\n",
            "Epoch 6/100\n",
            "94/94 [==============================] - 2s 17ms/step - loss: 0.0616 - accuracy: 0.9833 - val_loss: 0.0975 - val_accuracy: 0.9716\n",
            "Epoch 7/100\n",
            "94/94 [==============================] - 2s 18ms/step - loss: 0.0498 - accuracy: 0.9863 - val_loss: 0.0915 - val_accuracy: 0.9729\n",
            "Epoch 8/100\n",
            "94/94 [==============================] - 2s 17ms/step - loss: 0.0397 - accuracy: 0.9889 - val_loss: 0.0855 - val_accuracy: 0.9747\n",
            "Epoch 9/100\n",
            "94/94 [==============================] - 2s 17ms/step - loss: 0.0326 - accuracy: 0.9914 - val_loss: 0.0863 - val_accuracy: 0.9743\n",
            "Epoch 10/100\n",
            "94/94 [==============================] - 2s 17ms/step - loss: 0.0270 - accuracy: 0.9936 - val_loss: 0.0837 - val_accuracy: 0.9753\n",
            "Epoch 11/100\n",
            "94/94 [==============================] - 2s 17ms/step - loss: 0.0225 - accuracy: 0.9944 - val_loss: 0.0852 - val_accuracy: 0.9747\n",
            "Epoch 12/100\n",
            "94/94 [==============================] - 2s 17ms/step - loss: 0.0176 - accuracy: 0.9964 - val_loss: 0.0838 - val_accuracy: 0.9758\n",
            "Epoch 13/100\n",
            "94/94 [==============================] - 2s 17ms/step - loss: 0.0146 - accuracy: 0.9971 - val_loss: 0.0884 - val_accuracy: 0.9759\n",
            "Epoch 14/100\n",
            "94/94 [==============================] - 2s 17ms/step - loss: 0.0123 - accuracy: 0.9978 - val_loss: 0.0817 - val_accuracy: 0.9774\n",
            "Epoch 15/100\n",
            "94/94 [==============================] - 2s 17ms/step - loss: 0.0090 - accuracy: 0.9987 - val_loss: 0.0842 - val_accuracy: 0.9779\n",
            "Epoch 16/100\n",
            "94/94 [==============================] - 2s 17ms/step - loss: 0.0078 - accuracy: 0.9991 - val_loss: 0.0858 - val_accuracy: 0.9761\n",
            "Epoch 17/100\n",
            "94/94 [==============================] - 2s 17ms/step - loss: 0.0061 - accuracy: 0.9994 - val_loss: 0.0870 - val_accuracy: 0.9769\n",
            "Epoch 18/100\n",
            "94/94 [==============================] - 2s 17ms/step - loss: 0.0052 - accuracy: 0.9996 - val_loss: 0.0883 - val_accuracy: 0.9769\n",
            "Epoch 19/100\n",
            "94/94 [==============================] - 2s 18ms/step - loss: 0.0046 - accuracy: 0.9996 - val_loss: 0.0878 - val_accuracy: 0.9782\n",
            "Epoch 20/100\n",
            "94/94 [==============================] - 2s 18ms/step - loss: 0.0040 - accuracy: 0.9997 - val_loss: 0.0866 - val_accuracy: 0.9781\n",
            "Epoch 21/100\n",
            "94/94 [==============================] - 2s 17ms/step - loss: 0.0027 - accuracy: 1.0000 - val_loss: 0.0884 - val_accuracy: 0.9783\n",
            "Epoch 22/100\n",
            "94/94 [==============================] - 2s 17ms/step - loss: 0.0022 - accuracy: 1.0000 - val_loss: 0.0883 - val_accuracy: 0.9788\n",
            "Epoch 23/100\n",
            "94/94 [==============================] - 2s 17ms/step - loss: 0.0019 - accuracy: 1.0000 - val_loss: 0.0907 - val_accuracy: 0.9780\n",
            "Epoch 24/100\n",
            "94/94 [==============================] - 2s 17ms/step - loss: 0.0016 - accuracy: 1.0000 - val_loss: 0.0911 - val_accuracy: 0.9781\n",
            "Epoch 25/100\n",
            "94/94 [==============================] - 2s 18ms/step - loss: 0.0019 - accuracy: 0.9999 - val_loss: 0.0902 - val_accuracy: 0.9790\n",
            "Epoch 26/100\n",
            "94/94 [==============================] - 2s 18ms/step - loss: 0.0013 - accuracy: 1.0000 - val_loss: 0.0912 - val_accuracy: 0.9786\n",
            "Epoch 27/100\n",
            "94/94 [==============================] - 2s 17ms/step - loss: 0.0011 - accuracy: 1.0000 - val_loss: 0.0933 - val_accuracy: 0.9785\n",
            "Epoch 28/100\n",
            "94/94 [==============================] - 2s 17ms/step - loss: 9.8348e-04 - accuracy: 1.0000 - val_loss: 0.0941 - val_accuracy: 0.9791\n",
            "Epoch 29/100\n",
            "94/94 [==============================] - 2s 17ms/step - loss: 8.6405e-04 - accuracy: 1.0000 - val_loss: 0.0957 - val_accuracy: 0.9782\n",
            "Epoch 30/100\n",
            "94/94 [==============================] - 2s 17ms/step - loss: 7.8775e-04 - accuracy: 1.0000 - val_loss: 0.0960 - val_accuracy: 0.9785\n",
            "Epoch 31/100\n",
            "94/94 [==============================] - 2s 17ms/step - loss: 7.8875e-04 - accuracy: 1.0000 - val_loss: 0.0971 - val_accuracy: 0.9789\n",
            "Epoch 32/100\n",
            "94/94 [==============================] - 2s 18ms/step - loss: 6.4837e-04 - accuracy: 1.0000 - val_loss: 0.0974 - val_accuracy: 0.9788\n",
            "Epoch 33/100\n",
            "94/94 [==============================] - 2s 17ms/step - loss: 5.7926e-04 - accuracy: 1.0000 - val_loss: 0.0975 - val_accuracy: 0.9790\n",
            "Epoch 34/100\n",
            "94/94 [==============================] - 2s 17ms/step - loss: 5.2960e-04 - accuracy: 1.0000 - val_loss: 0.0984 - val_accuracy: 0.9793\n",
            "Epoch 35/100\n",
            "94/94 [==============================] - 2s 17ms/step - loss: 4.7176e-04 - accuracy: 1.0000 - val_loss: 0.0996 - val_accuracy: 0.9793\n",
            "Epoch 36/100\n",
            "94/94 [==============================] - 2s 17ms/step - loss: 4.4233e-04 - accuracy: 1.0000 - val_loss: 0.0997 - val_accuracy: 0.9791\n",
            "Epoch 37/100\n",
            "94/94 [==============================] - 2s 17ms/step - loss: 4.0547e-04 - accuracy: 1.0000 - val_loss: 0.1008 - val_accuracy: 0.9794\n",
            "Epoch 38/100\n",
            "94/94 [==============================] - 2s 17ms/step - loss: 3.7204e-04 - accuracy: 1.0000 - val_loss: 0.1007 - val_accuracy: 0.9798\n",
            "Epoch 39/100\n",
            "94/94 [==============================] - 2s 17ms/step - loss: 3.4441e-04 - accuracy: 1.0000 - val_loss: 0.1038 - val_accuracy: 0.9788\n",
            "Epoch 40/100\n",
            "94/94 [==============================] - 2s 18ms/step - loss: 3.1763e-04 - accuracy: 1.0000 - val_loss: 0.1028 - val_accuracy: 0.9795\n",
            "Epoch 41/100\n",
            "94/94 [==============================] - 2s 17ms/step - loss: 2.9285e-04 - accuracy: 1.0000 - val_loss: 0.1026 - val_accuracy: 0.9797\n",
            "Epoch 42/100\n",
            "94/94 [==============================] - 2s 18ms/step - loss: 2.7245e-04 - accuracy: 1.0000 - val_loss: 0.1038 - val_accuracy: 0.9801\n",
            "Epoch 43/100\n",
            "94/94 [==============================] - 2s 17ms/step - loss: 2.5413e-04 - accuracy: 1.0000 - val_loss: 0.1042 - val_accuracy: 0.9794\n",
            "Epoch 44/100\n",
            "94/94 [==============================] - 2s 17ms/step - loss: 2.3300e-04 - accuracy: 1.0000 - val_loss: 0.1061 - val_accuracy: 0.9797\n",
            "Epoch 45/100\n",
            "94/94 [==============================] - 2s 18ms/step - loss: 2.1914e-04 - accuracy: 1.0000 - val_loss: 0.1058 - val_accuracy: 0.9797\n",
            "Epoch 46/100\n",
            "94/94 [==============================] - 2s 18ms/step - loss: 2.0321e-04 - accuracy: 1.0000 - val_loss: 0.1066 - val_accuracy: 0.9797\n",
            "Epoch 47/100\n",
            "94/94 [==============================] - 2s 17ms/step - loss: 1.8826e-04 - accuracy: 1.0000 - val_loss: 0.1080 - val_accuracy: 0.9795\n",
            "Epoch 48/100\n",
            "94/94 [==============================] - 2s 18ms/step - loss: 1.7602e-04 - accuracy: 1.0000 - val_loss: 0.1075 - val_accuracy: 0.9800\n",
            "Epoch 49/100\n",
            "94/94 [==============================] - 2s 17ms/step - loss: 1.6629e-04 - accuracy: 1.0000 - val_loss: 0.1088 - val_accuracy: 0.9797\n",
            "Epoch 50/100\n",
            "94/94 [==============================] - 2s 17ms/step - loss: 1.5273e-04 - accuracy: 1.0000 - val_loss: 0.1099 - val_accuracy: 0.9793\n",
            "Epoch 51/100\n",
            "94/94 [==============================] - 2s 18ms/step - loss: 1.4205e-04 - accuracy: 1.0000 - val_loss: 0.1092 - val_accuracy: 0.9799\n",
            "Epoch 52/100\n",
            "94/94 [==============================] - 2s 18ms/step - loss: 1.3297e-04 - accuracy: 1.0000 - val_loss: 0.1110 - val_accuracy: 0.9797\n",
            "Epoch 53/100\n",
            "94/94 [==============================] - 2s 17ms/step - loss: 1.2646e-04 - accuracy: 1.0000 - val_loss: 0.1116 - val_accuracy: 0.9798\n",
            "Epoch 54/100\n",
            "94/94 [==============================] - 2s 17ms/step - loss: 1.1968e-04 - accuracy: 1.0000 - val_loss: 0.1115 - val_accuracy: 0.9796\n",
            "Epoch 55/100\n",
            "94/94 [==============================] - 2s 17ms/step - loss: 1.1101e-04 - accuracy: 1.0000 - val_loss: 0.1134 - val_accuracy: 0.9799\n",
            "Epoch 56/100\n",
            "94/94 [==============================] - 2s 17ms/step - loss: 1.0240e-04 - accuracy: 1.0000 - val_loss: 0.1139 - val_accuracy: 0.9797\n",
            "Epoch 57/100\n",
            "94/94 [==============================] - 2s 18ms/step - loss: 9.6481e-05 - accuracy: 1.0000 - val_loss: 0.1143 - val_accuracy: 0.9800\n",
            "Epoch 58/100\n",
            "94/94 [==============================] - 2s 18ms/step - loss: 8.9985e-05 - accuracy: 1.0000 - val_loss: 0.1152 - val_accuracy: 0.9797\n",
            "Epoch 59/100\n",
            "94/94 [==============================] - 2s 18ms/step - loss: 8.4147e-05 - accuracy: 1.0000 - val_loss: 0.1147 - val_accuracy: 0.9802\n",
            "Epoch 60/100\n",
            "94/94 [==============================] - 2s 18ms/step - loss: 7.8926e-05 - accuracy: 1.0000 - val_loss: 0.1171 - val_accuracy: 0.9797\n",
            "Epoch 61/100\n",
            "94/94 [==============================] - 2s 17ms/step - loss: 7.4149e-05 - accuracy: 1.0000 - val_loss: 0.1159 - val_accuracy: 0.9802\n",
            "Epoch 62/100\n",
            "94/94 [==============================] - 2s 18ms/step - loss: 6.9832e-05 - accuracy: 1.0000 - val_loss: 0.1177 - val_accuracy: 0.9797\n",
            "Epoch 63/100\n",
            "94/94 [==============================] - 2s 18ms/step - loss: 6.5096e-05 - accuracy: 1.0000 - val_loss: 0.1176 - val_accuracy: 0.9801\n",
            "Epoch 64/100\n",
            "94/94 [==============================] - 2s 17ms/step - loss: 6.1525e-05 - accuracy: 1.0000 - val_loss: 0.1192 - val_accuracy: 0.9796\n",
            "Epoch 65/100\n",
            "94/94 [==============================] - 2s 17ms/step - loss: 5.7580e-05 - accuracy: 1.0000 - val_loss: 0.1184 - val_accuracy: 0.9800\n",
            "Epoch 66/100\n",
            "94/94 [==============================] - 2s 17ms/step - loss: 5.5006e-05 - accuracy: 1.0000 - val_loss: 0.1196 - val_accuracy: 0.9800\n",
            "Epoch 67/100\n",
            "94/94 [==============================] - 2s 17ms/step - loss: 5.0881e-05 - accuracy: 1.0000 - val_loss: 0.1207 - val_accuracy: 0.9797\n",
            "Epoch 68/100\n",
            "94/94 [==============================] - 2s 17ms/step - loss: 4.7005e-05 - accuracy: 1.0000 - val_loss: 0.1212 - val_accuracy: 0.9801\n",
            "Epoch 69/100\n",
            "94/94 [==============================] - 2s 17ms/step - loss: 4.4796e-05 - accuracy: 1.0000 - val_loss: 0.1221 - val_accuracy: 0.9797\n",
            "Epoch 70/100\n",
            "94/94 [==============================] - 2s 18ms/step - loss: 4.1975e-05 - accuracy: 1.0000 - val_loss: 0.1223 - val_accuracy: 0.9803\n",
            "Epoch 71/100\n",
            "94/94 [==============================] - 2s 17ms/step - loss: 3.9671e-05 - accuracy: 1.0000 - val_loss: 0.1227 - val_accuracy: 0.9797\n",
            "Epoch 72/100\n",
            "94/94 [==============================] - 2s 17ms/step - loss: 3.6683e-05 - accuracy: 1.0000 - val_loss: 0.1240 - val_accuracy: 0.9797\n",
            "Epoch 73/100\n",
            "94/94 [==============================] - 2s 17ms/step - loss: 3.4599e-05 - accuracy: 1.0000 - val_loss: 0.1240 - val_accuracy: 0.9800\n",
            "Epoch 74/100\n",
            "94/94 [==============================] - 2s 17ms/step - loss: 3.2582e-05 - accuracy: 1.0000 - val_loss: 0.1248 - val_accuracy: 0.9801\n",
            "Epoch 75/100\n",
            "94/94 [==============================] - 2s 17ms/step - loss: 3.1549e-05 - accuracy: 1.0000 - val_loss: 0.1256 - val_accuracy: 0.9799\n",
            "Epoch 76/100\n",
            "94/94 [==============================] - 2s 18ms/step - loss: 2.8946e-05 - accuracy: 1.0000 - val_loss: 0.1257 - val_accuracy: 0.9797\n",
            "Epoch 77/100\n",
            "94/94 [==============================] - 2s 17ms/step - loss: 2.7290e-05 - accuracy: 1.0000 - val_loss: 0.1264 - val_accuracy: 0.9800\n",
            "Epoch 78/100\n",
            "94/94 [==============================] - 2s 17ms/step - loss: 2.5462e-05 - accuracy: 1.0000 - val_loss: 0.1273 - val_accuracy: 0.9802\n",
            "Epoch 79/100\n",
            "94/94 [==============================] - 2s 17ms/step - loss: 2.4334e-05 - accuracy: 1.0000 - val_loss: 0.1284 - val_accuracy: 0.9799\n",
            "Epoch 80/100\n",
            "94/94 [==============================] - 2s 18ms/step - loss: 2.3171e-05 - accuracy: 1.0000 - val_loss: 0.1289 - val_accuracy: 0.9798\n",
            "Epoch 81/100\n",
            "94/94 [==============================] - 2s 18ms/step - loss: 2.1411e-05 - accuracy: 1.0000 - val_loss: 0.1296 - val_accuracy: 0.9799\n",
            "Epoch 82/100\n",
            "94/94 [==============================] - 2s 18ms/step - loss: 2.0149e-05 - accuracy: 1.0000 - val_loss: 0.1302 - val_accuracy: 0.9801\n",
            "Epoch 83/100\n",
            "94/94 [==============================] - 2s 17ms/step - loss: 1.8930e-05 - accuracy: 1.0000 - val_loss: 0.1303 - val_accuracy: 0.9797\n",
            "Epoch 84/100\n",
            "94/94 [==============================] - 2s 18ms/step - loss: 1.7874e-05 - accuracy: 1.0000 - val_loss: 0.1317 - val_accuracy: 0.9797\n",
            "Epoch 85/100\n",
            "94/94 [==============================] - 2s 18ms/step - loss: 1.6635e-05 - accuracy: 1.0000 - val_loss: 0.1318 - val_accuracy: 0.9797\n",
            "Epoch 86/100\n",
            "94/94 [==============================] - 2s 17ms/step - loss: 1.5846e-05 - accuracy: 1.0000 - val_loss: 0.1330 - val_accuracy: 0.9800\n",
            "Epoch 87/100\n",
            "94/94 [==============================] - 2s 17ms/step - loss: 1.4941e-05 - accuracy: 1.0000 - val_loss: 0.1328 - val_accuracy: 0.9802\n",
            "Epoch 88/100\n",
            "94/94 [==============================] - 2s 18ms/step - loss: 1.4164e-05 - accuracy: 1.0000 - val_loss: 0.1338 - val_accuracy: 0.9802\n",
            "Epoch 89/100\n",
            "94/94 [==============================] - 2s 17ms/step - loss: 1.3255e-05 - accuracy: 1.0000 - val_loss: 0.1338 - val_accuracy: 0.9798\n",
            "Epoch 90/100\n",
            "94/94 [==============================] - 2s 18ms/step - loss: 1.2643e-05 - accuracy: 1.0000 - val_loss: 0.1352 - val_accuracy: 0.9798\n",
            "Epoch 91/100\n",
            "94/94 [==============================] - 2s 18ms/step - loss: 1.1800e-05 - accuracy: 1.0000 - val_loss: 0.1355 - val_accuracy: 0.9801\n",
            "Epoch 92/100\n",
            "94/94 [==============================] - 2s 18ms/step - loss: 1.1040e-05 - accuracy: 1.0000 - val_loss: 0.1357 - val_accuracy: 0.9797\n",
            "Epoch 93/100\n",
            "94/94 [==============================] - 2s 18ms/step - loss: 1.0425e-05 - accuracy: 1.0000 - val_loss: 0.1368 - val_accuracy: 0.9797\n",
            "Epoch 94/100\n",
            "94/94 [==============================] - 2s 18ms/step - loss: 9.8741e-06 - accuracy: 1.0000 - val_loss: 0.1375 - val_accuracy: 0.9800\n",
            "Epoch 95/100\n",
            "94/94 [==============================] - 2s 18ms/step - loss: 9.3361e-06 - accuracy: 1.0000 - val_loss: 0.1373 - val_accuracy: 0.9797\n",
            "Epoch 96/100\n",
            "94/94 [==============================] - 2s 18ms/step - loss: 8.7523e-06 - accuracy: 1.0000 - val_loss: 0.1383 - val_accuracy: 0.9798\n",
            "Epoch 97/100\n",
            "94/94 [==============================] - 2s 18ms/step - loss: 8.2910e-06 - accuracy: 1.0000 - val_loss: 0.1384 - val_accuracy: 0.9797\n",
            "Epoch 98/100\n",
            "94/94 [==============================] - 2s 17ms/step - loss: 7.8220e-06 - accuracy: 1.0000 - val_loss: 0.1398 - val_accuracy: 0.9797\n",
            "Epoch 99/100\n",
            "94/94 [==============================] - 2s 17ms/step - loss: 7.4882e-06 - accuracy: 1.0000 - val_loss: 0.1401 - val_accuracy: 0.9801\n",
            "Epoch 100/100\n",
            "94/94 [==============================] - 2s 18ms/step - loss: 6.9710e-06 - accuracy: 1.0000 - val_loss: 0.1408 - val_accuracy: 0.9797\n",
            "313/313 [==============================] - 0s 2ms/step - loss: 0.1171 - accuracy: 0.9807\n",
            "Test results \n",
            " - Loss    :  0.117  \n",
            " - Accuracy:  0.981\n"
          ],
          "name": "stdout"
        }
      ]
    },
    {
      "cell_type": "code",
      "metadata": {
        "id": "6yGngPbEuY51",
        "colab_type": "code",
        "colab": {
          "base_uri": "https://localhost:8080/",
          "height": 828
        },
        "outputId": "6182afc4-f878-4afc-edb8-54d42c0ad06b"
      },
      "source": [
        "y_pred = model.predict(x_test)\n",
        "\n",
        "predicted_labels = np.argmax(y_pred, axis=-1)\n",
        "actual_labels = np.argmax(y_test, axis=-1)\n",
        "\n",
        "print('Precision score:', precision_score(actual_labels, predicted_labels, average='macro'))\n",
        "print('Recall score   :', recall_score(actual_labels, predicted_labels, average='macro'))\n",
        "\n",
        "\n",
        "print('Confusion Matrix')\n",
        "print(confusion_matrix(y_test.argmax(1), y_pred.argmax(1)))\n",
        "\n",
        "cmap = ListedColormap(['lightgrey', 'silver', 'ghostwhite', 'lavender', 'wheat'])\n",
        "\n",
        "#confusion matrix\n",
        "def cm(y_test, y_pred, title):\n",
        "  cm = confusion_matrix(y_test, y_pred)\n",
        "\n",
        "  plt.figure()\n",
        "  plt.matshow(cm, cmap=cmap)\n",
        "  \n",
        "  for i in range(cm.shape[0]):\n",
        "    for j in range(cm.shape[1]):\n",
        "      plt.text(x=j, y=i, s=cm[i,j], va='center', ha='center')\n",
        "  \n",
        "  plt.title(title)\n",
        "  plt.xlabel('Predicted label')\n",
        "  plt.ylabel('True label')\n",
        "  plt.show()\n",
        "\n",
        "cm(y_train.argmax(1), model.predict(x_train).argmax(1), title='Train')\n",
        "cm(y_test.argmax(1), model.predict(x_test).argmax(1), title='Test')"
      ],
      "execution_count": 39,
      "outputs": [
        {
          "output_type": "stream",
          "text": [
            "Precision score: 0.9806718015007393\n",
            "Recall score   : 0.9805005136846943\n",
            "Confusion Matrix\n",
            "[[ 971    1    0    1    0    1    3    1    2    0]\n",
            " [   0 1126    4    1    0    0    1    0    3    0]\n",
            " [   4    1 1009    2    3    0    3    4    5    1]\n",
            " [   2    0    4  989    0    3    0    4    6    2]\n",
            " [   2    0    1    1  965    0    4    0    2    7]\n",
            " [   2    0    0    8    1  867    5    1    4    4]\n",
            " [   3    3    1    1    5    2  941    0    2    0]\n",
            " [   1    3    5    5    1    0    0 1003    4    6]\n",
            " [   1    0    2    6    4    2    2    3  951    3]\n",
            " [   3    3    0    4    7    1    0    6    0  985]]\n"
          ],
          "name": "stdout"
        },
        {
          "output_type": "display_data",
          "data": {
            "text/plain": [
              "<Figure size 432x288 with 0 Axes>"
            ]
          },
          "metadata": {
            "tags": []
          }
        },
        {
          "output_type": "display_data",
          "data": {
            "image/png": "[encoded data removed]",
            "text/plain": [
              "<Figure size 288x288 with 1 Axes>"
            ]
          },
          "metadata": {
            "tags": [],
            "needs_background": "light"
          }
        },
        {
          "output_type": "display_data",
          "data": {
            "text/plain": [
              "<Figure size 432x288 with 0 Axes>"
            ]
          },
          "metadata": {
            "tags": []
          }
        },
        {
          "output_type": "display_data",
          "data": {
            "image/png": "[encoded data removed]",
            "text/plain": [
              "<Figure size 288x288 with 1 Axes>"
            ]
          },
          "metadata": {
            "tags": [],
            "needs_background": "light"
          }
        }
      ]
    }
  ]
}