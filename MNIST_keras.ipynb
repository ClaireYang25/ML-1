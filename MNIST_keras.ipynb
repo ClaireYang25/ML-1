{
  "nbformat": 4,
  "nbformat_minor": 0,
  "metadata": {
    "colab": {
      "name": "MNIST_keras.ipynb",
      "provenance": [],
      "authorship_tag": "ABX9TyOBy4Lm63mM6ZTwHNaxXFOI",
      "include_colab_link": true
    },
    "kernelspec": {
      "name": "python3",
      "display_name": "Python 3"
    }
  },
  "cells": [
    {
      "cell_type": "markdown",
      "metadata": {
        "id": "view-in-github",
        "colab_type": "text"
      },
      "source": [
        "<a href=\"https://colab.research.google.com/github/ibribr/ML/blob/master/MNIST_keras.ipynb\" target=\"_parent\"><img src=\"https://colab.research.google.com/assets/colab-badge.svg\" alt=\"Open In Colab\"/></a>"
      ]
    },
    {
      "cell_type": "code",
      "metadata": {
        "id": "3j5hJefnmY60",
        "colab_type": "code",
        "colab": {}
      },
      "source": [
        "# MLP for MNIST\n",
        "import numpy as np\n",
        "import matplotlib.pyplot as plt\n",
        "import keras\n",
        "from keras.datasets import mnist\n",
        "from keras.models import Sequential\n",
        "from keras.layers import Dense\n",
        "from keras.utils import to_categorical\n",
        "from sklearn.metrics import confusion_matrix"
      ],
      "execution_count": null,
      "outputs": []
    },
    {
      "cell_type": "code",
      "metadata": {
        "id": "P0RdJ0B1mfHM",
        "colab_type": "code",
        "colab": {
          "base_uri": "https://localhost:8080/",
          "height": 295
        },
        "outputId": "f22e4294-bac1-4fce-8084-296adff354f8"
      },
      "source": [
        "(x_train, y_train), (x_test, y_test)=mnist.load_data()  #60000 samples for training, 10000 samples for testing\n",
        "\n",
        "print('train:', x_train.shape, y_train.shape)\n",
        "print('Test set:', x_test.shape, y_test.shape)\n",
        "\n",
        "# visualize some\n",
        "fig, ax = plt.subplots(2,5,sharex=True,sharey=True)\n",
        "ax = ax.flatten()\n",
        "for i in range(10):\n",
        "  ax[i].imshow(x_train[i,:])\n",
        "plt.show()\n",
        "\n",
        "# prepare the data for training\n",
        "x_train = x_train.reshape(60000,28*28)\n",
        "x_train = x_train.astype('float32')/255\n",
        "x_test = x_test.reshape(10000,28*28)\n",
        "x_test = x_test.astype('float32')/255\n",
        "y_train = to_categorical(y_train)\n",
        "y_test = to_categorical(y_test)"
      ],
      "execution_count": null,
      "outputs": [
        {
          "output_type": "stream",
          "text": [
            "Downloading data from https://storage.googleapis.com/tensorflow/tf-keras-datasets/mnist.npz\n",
            "11493376/11490434 [==============================] - 0s 0us/step\n",
            "train: (60000, 28, 28) (60000,)\n",
            "Test set: (10000, 28, 28) (10000,)\n"
          ],
          "name": "stdout"
        },
        {
          "output_type": "display_data",
          "data": {
            "image/png": "[encoded data removed]",
            "text/plain": [
              "<Figure size 432x288 with 10 Axes>"
            ]
          },
          "metadata": {
            "tags": [],
            "needs_background": "light"
          }
        }
      ]
    },
    {
      "cell_type": "code",
      "metadata": {
        "id": "Q99eoDRlnCJJ",
        "colab_type": "code",
        "colab": {
          "base_uri": "https://localhost:8080/",
          "height": 1000
        },
        "outputId": "e1d707c8-2970-4527-b25c-cee7a9e65a95"
      },
      "source": [
        "# classification model\n",
        "input_shape=x_train.shape[1]\n",
        "num_classes = y_train.shape[1]\n",
        "model = Sequential()\n",
        "model.add(Dense(350, activation='relu', input_shape=(28*28,)))\n",
        "model.add(Dense(50, activation='relu'))\n",
        "model.add(Dense(num_classes, activation='softmax'))\n",
        "\n",
        "model.compile(loss='categorical_crossentropy', optimizer='adam', metrics=['accuracy'])\n",
        "model.summary()\n",
        "\n",
        "model.fit(x_train, y_train, epochs=100, batch_size=512, verbose=1, validation_split=0.2)\n",
        "\n",
        "# Test the model after training\n",
        "test_results = model.evaluate(x_test, y_test, verbose=1)\n",
        "\n",
        "print(f'Test results \\n - Loss    : {test_results[0]: 0.3f}  \\n - Accuracy: {test_results[1]: 0.3f}')"
      ],
      "execution_count": null,
      "outputs": [
        {
          "output_type": "stream",
          "text": [
            "Model: \"sequential\"\n",
            "_________________________________________________________________\n",
            "Layer (type)                 Output Shape              Param #   \n",
            "=================================================================\n",
            "dense (Dense)                (None, 350)               274750    \n",
            "_________________________________________________________________\n",
            "dense_1 (Dense)              (None, 50)                17550     \n",
            "_________________________________________________________________\n",
            "dense_2 (Dense)              (None, 10)                510       \n",
            "=================================================================\n",
            "Total params: 292,810\n",
            "Trainable params: 292,810\n",
            "Non-trainable params: 0\n",
            "_________________________________________________________________\n",
            "Epoch 1/100\n",
            "94/94 [==============================] - 2s 18ms/step - loss: 0.4973 - accuracy: 0.8616 - val_loss: 0.2161 - val_accuracy: 0.9388\n",
            "Epoch 2/100\n",
            "94/94 [==============================] - 2s 17ms/step - loss: 0.1854 - accuracy: 0.9469 - val_loss: 0.1554 - val_accuracy: 0.9563\n",
            "Epoch 3/100\n",
            "94/94 [==============================] - 2s 17ms/step - loss: 0.1295 - accuracy: 0.9631 - val_loss: 0.1257 - val_accuracy: 0.9622\n",
            "Epoch 4/100\n",
            "94/94 [==============================] - 2s 17ms/step - loss: 0.0978 - accuracy: 0.9716 - val_loss: 0.1056 - val_accuracy: 0.9688\n",
            "Epoch 5/100\n",
            "94/94 [==============================] - 2s 17ms/step - loss: 0.0765 - accuracy: 0.9781 - val_loss: 0.1010 - val_accuracy: 0.9708\n",
            "Epoch 6/100\n",
            "94/94 [==============================] - 2s 17ms/step - loss: 0.0605 - accuracy: 0.9831 - val_loss: 0.0885 - val_accuracy: 0.9735\n",
            "Epoch 7/100\n",
            "94/94 [==============================] - 2s 17ms/step - loss: 0.0496 - accuracy: 0.9862 - val_loss: 0.0857 - val_accuracy: 0.9750\n",
            "Epoch 8/100\n",
            "94/94 [==============================] - 2s 17ms/step - loss: 0.0392 - accuracy: 0.9897 - val_loss: 0.0807 - val_accuracy: 0.9761\n",
            "Epoch 9/100\n",
            "94/94 [==============================] - 2s 16ms/step - loss: 0.0319 - accuracy: 0.9914 - val_loss: 0.0827 - val_accuracy: 0.9758\n",
            "Epoch 10/100\n",
            "94/94 [==============================] - 2s 17ms/step - loss: 0.0264 - accuracy: 0.9935 - val_loss: 0.0776 - val_accuracy: 0.9777\n",
            "Epoch 11/100\n",
            "94/94 [==============================] - 2s 17ms/step - loss: 0.0214 - accuracy: 0.9949 - val_loss: 0.0763 - val_accuracy: 0.9789\n",
            "Epoch 12/100\n",
            "94/94 [==============================] - 2s 17ms/step - loss: 0.0175 - accuracy: 0.9959 - val_loss: 0.0776 - val_accuracy: 0.9784\n",
            "Epoch 13/100\n",
            "94/94 [==============================] - 2s 17ms/step - loss: 0.0138 - accuracy: 0.9974 - val_loss: 0.0751 - val_accuracy: 0.9780\n",
            "Epoch 14/100\n",
            "94/94 [==============================] - 2s 17ms/step - loss: 0.0113 - accuracy: 0.9980 - val_loss: 0.0767 - val_accuracy: 0.9786\n",
            "Epoch 15/100\n",
            "94/94 [==============================] - 2s 17ms/step - loss: 0.0092 - accuracy: 0.9987 - val_loss: 0.0754 - val_accuracy: 0.9798\n",
            "Epoch 16/100\n",
            "94/94 [==============================] - 2s 17ms/step - loss: 0.0070 - accuracy: 0.9994 - val_loss: 0.0809 - val_accuracy: 0.9783\n",
            "Epoch 17/100\n",
            "94/94 [==============================] - 2s 17ms/step - loss: 0.0058 - accuracy: 0.9994 - val_loss: 0.0790 - val_accuracy: 0.9793\n",
            "Epoch 18/100\n",
            "94/94 [==============================] - 2s 17ms/step - loss: 0.0053 - accuracy: 0.9994 - val_loss: 0.0798 - val_accuracy: 0.9787\n",
            "Epoch 19/100\n",
            "94/94 [==============================] - 2s 16ms/step - loss: 0.0042 - accuracy: 0.9997 - val_loss: 0.0838 - val_accuracy: 0.9786\n",
            "Epoch 20/100\n",
            "94/94 [==============================] - 2s 17ms/step - loss: 0.0035 - accuracy: 0.9998 - val_loss: 0.0796 - val_accuracy: 0.9798\n",
            "Epoch 21/100\n",
            "94/94 [==============================] - 2s 17ms/step - loss: 0.0027 - accuracy: 0.9999 - val_loss: 0.0814 - val_accuracy: 0.9800\n",
            "Epoch 22/100\n",
            "94/94 [==============================] - 2s 16ms/step - loss: 0.0022 - accuracy: 1.0000 - val_loss: 0.0813 - val_accuracy: 0.9802\n",
            "Epoch 23/100\n",
            "94/94 [==============================] - 2s 16ms/step - loss: 0.0020 - accuracy: 0.9999 - val_loss: 0.0837 - val_accuracy: 0.9794\n",
            "Epoch 24/100\n",
            "94/94 [==============================] - 2s 17ms/step - loss: 0.0017 - accuracy: 1.0000 - val_loss: 0.0847 - val_accuracy: 0.9797\n",
            "Epoch 25/100\n",
            "94/94 [==============================] - 2s 17ms/step - loss: 0.0015 - accuracy: 1.0000 - val_loss: 0.0844 - val_accuracy: 0.9796\n",
            "Epoch 26/100\n",
            "94/94 [==============================] - 2s 16ms/step - loss: 0.0012 - accuracy: 1.0000 - val_loss: 0.0848 - val_accuracy: 0.9806\n",
            "Epoch 27/100\n",
            "94/94 [==============================] - 2s 17ms/step - loss: 0.0011 - accuracy: 1.0000 - val_loss: 0.0853 - val_accuracy: 0.9797\n",
            "Epoch 28/100\n",
            "94/94 [==============================] - 2s 17ms/step - loss: 9.3717e-04 - accuracy: 1.0000 - val_loss: 0.0863 - val_accuracy: 0.9801\n",
            "Epoch 29/100\n",
            "94/94 [==============================] - 2s 17ms/step - loss: 8.4601e-04 - accuracy: 1.0000 - val_loss: 0.0883 - val_accuracy: 0.9808\n",
            "Epoch 30/100\n",
            "94/94 [==============================] - 2s 17ms/step - loss: 8.0395e-04 - accuracy: 1.0000 - val_loss: 0.0870 - val_accuracy: 0.9804\n",
            "Epoch 31/100\n",
            "94/94 [==============================] - 2s 17ms/step - loss: 6.9143e-04 - accuracy: 1.0000 - val_loss: 0.0897 - val_accuracy: 0.9798\n",
            "Epoch 32/100\n",
            "94/94 [==============================] - 2s 16ms/step - loss: 6.2098e-04 - accuracy: 1.0000 - val_loss: 0.0905 - val_accuracy: 0.9799\n",
            "Epoch 33/100\n",
            "94/94 [==============================] - 2s 17ms/step - loss: 5.6462e-04 - accuracy: 1.0000 - val_loss: 0.0904 - val_accuracy: 0.9799\n",
            "Epoch 34/100\n",
            "94/94 [==============================] - 2s 17ms/step - loss: 5.1583e-04 - accuracy: 1.0000 - val_loss: 0.0924 - val_accuracy: 0.9797\n",
            "Epoch 35/100\n",
            "94/94 [==============================] - 2s 17ms/step - loss: 4.7041e-04 - accuracy: 1.0000 - val_loss: 0.0924 - val_accuracy: 0.9798\n",
            "Epoch 36/100\n",
            "94/94 [==============================] - 2s 16ms/step - loss: 4.3023e-04 - accuracy: 1.0000 - val_loss: 0.0922 - val_accuracy: 0.9797\n",
            "Epoch 37/100\n",
            "94/94 [==============================] - 2s 17ms/step - loss: 3.9150e-04 - accuracy: 1.0000 - val_loss: 0.0936 - val_accuracy: 0.9800\n",
            "Epoch 38/100\n",
            "94/94 [==============================] - 2s 16ms/step - loss: 3.5577e-04 - accuracy: 1.0000 - val_loss: 0.0952 - val_accuracy: 0.9800\n",
            "Epoch 39/100\n",
            "94/94 [==============================] - 2s 16ms/step - loss: 3.2447e-04 - accuracy: 1.0000 - val_loss: 0.0958 - val_accuracy: 0.9797\n",
            "Epoch 40/100\n",
            "94/94 [==============================] - 2s 17ms/step - loss: 2.9791e-04 - accuracy: 1.0000 - val_loss: 0.0961 - val_accuracy: 0.9797\n",
            "Epoch 41/100\n",
            "94/94 [==============================] - 2s 16ms/step - loss: 2.8537e-04 - accuracy: 1.0000 - val_loss: 0.0966 - val_accuracy: 0.9796\n",
            "Epoch 42/100\n",
            "94/94 [==============================] - 2s 16ms/step - loss: 2.5514e-04 - accuracy: 1.0000 - val_loss: 0.0970 - val_accuracy: 0.9799\n",
            "Epoch 43/100\n",
            "94/94 [==============================] - 2s 17ms/step - loss: 2.3672e-04 - accuracy: 1.0000 - val_loss: 0.0984 - val_accuracy: 0.9796\n",
            "Epoch 44/100\n",
            "94/94 [==============================] - 2s 17ms/step - loss: 2.2114e-04 - accuracy: 1.0000 - val_loss: 0.0992 - val_accuracy: 0.9799\n",
            "Epoch 45/100\n",
            "94/94 [==============================] - 2s 17ms/step - loss: 2.0427e-04 - accuracy: 1.0000 - val_loss: 0.0993 - val_accuracy: 0.9802\n",
            "Epoch 46/100\n",
            "94/94 [==============================] - 2s 17ms/step - loss: 1.9128e-04 - accuracy: 1.0000 - val_loss: 0.1005 - val_accuracy: 0.9801\n",
            "Epoch 47/100\n",
            "94/94 [==============================] - 2s 17ms/step - loss: 1.7306e-04 - accuracy: 1.0000 - val_loss: 0.1010 - val_accuracy: 0.9800\n",
            "Epoch 48/100\n",
            "94/94 [==============================] - 2s 17ms/step - loss: 1.6192e-04 - accuracy: 1.0000 - val_loss: 0.1014 - val_accuracy: 0.9802\n",
            "Epoch 49/100\n",
            "94/94 [==============================] - 2s 17ms/step - loss: 1.5237e-04 - accuracy: 1.0000 - val_loss: 0.1027 - val_accuracy: 0.9801\n",
            "Epoch 50/100\n",
            "94/94 [==============================] - 2s 17ms/step - loss: 1.4311e-04 - accuracy: 1.0000 - val_loss: 0.1025 - val_accuracy: 0.9797\n",
            "Epoch 51/100\n",
            "94/94 [==============================] - 2s 17ms/step - loss: 1.3034e-04 - accuracy: 1.0000 - val_loss: 0.1042 - val_accuracy: 0.9795\n",
            "Epoch 52/100\n",
            "64/94 [===================>..........] - ETA: 0s - loss: 1.2435e-04 - accuracy: 1.0000"
          ],
          "name": "stdout"
        }
      ]
    },
    {
      "cell_type": "code",
      "metadata": {
        "id": "6yGngPbEuY51",
        "colab_type": "code",
        "colab": {}
      },
      "source": [
        "y_pred = model.predict(x_test)\n",
        "print('Confusion Matrix')\n",
        "print(confusion_matrix(y_test.argmax(1), y_pred.argmax(1)))\n",
        "\n",
        "\n",
        "cmap = ListedColormap(['lightgrey', 'silver', 'ghostwhite', 'lavender', 'wheat'])\n",
        "\n",
        "#confusion matrix\n",
        "def cm(y_test, y_pred, title):\n",
        "  cm = confusion_matrix(y_test, y_pred)\n",
        "\n",
        "  plt.figure()\n",
        "  plt.matshow(cm, cmap=cmap)\n",
        "  \n",
        "  for i in range(cm.shape[0]):\n",
        "    for j in range(cm.shape[1]):\n",
        "      plt.text(x=j, y=i, s=cm[i,j], va='center', ha='center')\n",
        "  \n",
        "  plt.title(title)\n",
        "  plt.xlabel('Predicted label')\n",
        "  plt.ylabel('True label')\n",
        "  plt.show()\n",
        "\n",
        "cm(y_train.argmax(1), model.predict(x_train).argmax(1), title='Train')\n",
        "cm(y_test.argmax(1), model.predict(x_test).argmax(1), title='Test')"
      ],
      "execution_count": null,
      "outputs": []
    }
  ]
}