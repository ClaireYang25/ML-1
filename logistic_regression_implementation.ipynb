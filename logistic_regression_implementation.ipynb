{
  "nbformat": 4,
  "nbformat_minor": 0,
  "metadata": {
    "colab": {
      "name": "logistic_regression_implementation.ipynb",
      "provenance": [],
      "authorship_tag": "ABX9TyPBgk+HDzUcdDfbSi1kb2CH",
      "include_colab_link": true
    },
    "kernelspec": {
      "name": "python3",
      "display_name": "Python 3"
    }
  },
  "cells": [
    {
      "cell_type": "markdown",
      "metadata": {
        "id": "view-in-github",
        "colab_type": "text"
      },
      "source": [
        "<a href=\"https://colab.research.google.com/github/ibribr/ML/blob/master/logistic_regression_implementation.ipynb\" target=\"_parent\"><img src=\"https://colab.research.google.com/assets/colab-badge.svg\" alt=\"Open In Colab\"/></a>"
      ]
    },
    {
      "cell_type": "code",
      "metadata": {
        "id": "aXyp7Hz74qZs",
        "colab_type": "code",
        "colab": {}
      },
      "source": [
        "import numpy as np\n",
        "import matplotlib.pyplot as plt\n",
        "from sklearn.datasets import load_iris\n",
        "from sklearn.metrics import confusion_matrix\n",
        "from sklearn.metrics import plot_confusion_matrix"
      ],
      "execution_count": 1,
      "outputs": []
    },
    {
      "cell_type": "code",
      "metadata": {
        "id": "WXrokQb--BzQ",
        "colab_type": "code",
        "colab": {
          "base_uri": "https://localhost:8080/",
          "height": 313
        },
        "outputId": "d695ba26-5776-4ae4-a5d9-1755d032e210"
      },
      "source": [
        "iris = load_iris()\n",
        "x = iris.data[1:100,[1,3]]\n",
        "y = iris.target[1:100]\n",
        "print(iris.target_names)\n",
        "print(x.shape)\n",
        "\n",
        "plt.plot(x[y==0,0],x[y==0,1],'g+',label='1')\n",
        "plt.plot(x[y==1,0],x[y==1,1],'bo',label='0')\n",
        "plt.legend(loc='upper right')\n",
        "plt.xlabel('Feature1')\n",
        "plt.ylabel('Feature2')\n",
        "plt.grid()\n",
        "plt.show()\n"
      ],
      "execution_count": 2,
      "outputs": [
        {
          "output_type": "stream",
          "text": [
            "['setosa' 'versicolor' 'virginica']\n",
            "(99, 2)\n"
          ],
          "name": "stdout"
        },
        {
          "output_type": "display_data",
          "data": {
            "image/png": "[encoded data removed]",
            "text/plain": [
              "<Figure size 432x288 with 1 Axes>"
            ]
          },
          "metadata": {
            "tags": [],
            "needs_background": "light"
          }
        }
      ]
    },
    {
      "cell_type": "code",
      "metadata": {
        "id": "Aq3PoXVv-ZdR",
        "colab_type": "code",
        "colab": {}
      },
      "source": [
        "# implement logistic regression classified\n",
        "class logistic_regression(object):\n",
        "  def __init__(self, epochs = 100, eta = 0.1, random_state=1):\n",
        "    self.epochs = epochs\n",
        "    self.eta = eta\n",
        "    self.random_state = random_state\n",
        "  \n",
        "  def fit(self, x,y):\n",
        "    np.random.RandomState(self.random_state)\n",
        "    self.w_ = np.random.normal(loc = 0.0, scale = 1.0, size = x.shape[1]+1)\n",
        "    print(self.w_)\n",
        "    self.cost_ = []\n",
        "    for i in range(self.epochs):\n",
        "      net = np.dot(x,self.w_[1:])+self.w_[0]\n",
        "      #print(net)\n",
        "      #print(net.shape)\n",
        "      output = 1./(1.+np.exp(-net))\n",
        "      #print(output)\n",
        "      error = (y-output)\n",
        "      #print(np.dot(x.T,error))\n",
        "      #print(x.T.dot(error))\n",
        "      self.w_[1:]+=self.eta*np.dot(x.T,error)\n",
        "      self.w_[0]+=self.eta*error.sum()\n",
        "      #print(y.shape)\n",
        "      #print(output.shape)\n",
        "      #print(np.log(output))\n",
        "      cost = error.mean()#\n",
        "      cost=-np.dot(y, np.log(output))-np.dot((1-y), np.log(1-output))\n",
        "      self.cost_.append(cost)\n",
        "    return(self)\n",
        "  \n",
        "  def predict(self, x):\n",
        "    net = np.dot(x,self.w_[1:])+self.w_[0]\n",
        "    output = 1./(1.+np.exp(-net))\n",
        "    return(np.where(output>=0.5,1,0))\n",
        "\n",
        "\n"
      ],
      "execution_count": 3,
      "outputs": []
    },
    {
      "cell_type": "code",
      "metadata": {
        "id": "fXNTrXb4sCkK",
        "colab_type": "code",
        "colab": {
          "base_uri": "https://localhost:8080/",
          "height": 575
        },
        "outputId": "54e75ec5-1a47-446d-d98c-24db3f1027c7"
      },
      "source": [
        "model = logistic_regression(epochs=20, eta = 0.05)\n",
        "model.fit(x,y)\n",
        "y_pred = model.predict(x)\n",
        "error=np.sum(np.abs(y-y_pred))\n",
        "print(error)\n",
        "# decision line\n",
        "xx1 = np.arange(x[:,0].min()-1,x[:,0].max()+1,0.1)\n",
        "xx2 = -(model.w_[1]*xx1+model.w_[0])/model.w_[2]\n",
        "\n",
        "plt.plot(x[y_pred==0,0],x[y_pred==0,1],'g+',label='1')\n",
        "plt.plot(x[y_pred==1,0],x[y_pred==1,1],'bo',label='0')\n",
        "plt.legend(loc='upper left')\n",
        "plt.plot(xx1, xx2, 'm-')\n",
        "plt.xlabel('Feature 1')\n",
        "plt.ylabel('Feature 2')\n",
        "plt.grid()\n",
        "plt.show()\n",
        "\n",
        "plt.plot(range(len(model.cost_)), model.cost_)\n",
        "plt.xlabel('Epochs')\n",
        "plt.ylabel('Error')\n",
        "plt.grid()\n",
        "plt.show()\n"
      ],
      "execution_count": 4,
      "outputs": [
        {
          "output_type": "stream",
          "text": [
            "[ 2.79892964 -0.77915859 -2.07177645]\n",
            "0\n"
          ],
          "name": "stdout"
        },
        {
          "output_type": "display_data",
          "data": {
            "image/png": "[encoded data removed]",
            "text/plain": [
              "<Figure size 432x288 with 1 Axes>"
            ]
          },
          "metadata": {
            "tags": [],
            "needs_background": "light"
          }
        },
        {
          "output_type": "display_data",
          "data": {
            "image/png": "[encoded data removed]",
            "text/plain": [
              "<Figure size 432x288 with 1 Axes>"
            ]
          },
          "metadata": {
            "tags": [],
            "needs_background": "light"
          }
        }
      ]
    },
    {
      "cell_type": "code",
      "metadata": {
        "id": "XWsUKQrDfv49",
        "colab_type": "code",
        "colab": {
          "base_uri": "https://localhost:8080/",
          "height": 407
        },
        "outputId": "5094ead4-2fb6-410c-ac1b-b8147fa847bb"
      },
      "source": [
        "from matplotlib.colors import ListedColormap\n",
        "\n",
        "cmap = ListedColormap(['W', 'Y', 'M'])\n",
        "# Compute confusion matrix\n",
        "y_true = y\n",
        "class_names = iris.target_names\n",
        "print(class_names[0:-1])\n",
        "\n",
        "#cnf_matrix = confusion_matrix(y_true, y_pred, labels=[0, 1])  # 0 = 'setosa', 1 = 'versicolor'\n",
        "cm = confusion_matrix(y, y_pred)  # y_true and y_pred - 0 = 'setosa', 1 = 'versicolor'\n",
        "print(cm)\n",
        "\n",
        "plt.figure()\n",
        "plt.matshow(cm, cmap=cmap)\n",
        "for i in range(cm.shape[0]):\n",
        "  for j in range(cm.shape[1]):\n",
        "    plt.text(x=j, y=i, s=cm[i,j], va='center', ha='center')\n",
        "plt.xlabel('Predicted label')\n",
        "plt.ylabel('True label')\n",
        "plt.show()"
      ],
      "execution_count": 18,
      "outputs": [
        {
          "output_type": "stream",
          "text": [
            "['setosa' 'versicolor']\n",
            "[[49  0]\n",
            " [ 0 50]]\n"
          ],
          "name": "stdout"
        },
        {
          "output_type": "display_data",
          "data": {
            "text/plain": [
              "<Figure size 432x288 with 0 Axes>"
            ]
          },
          "metadata": {
            "tags": []
          }
        },
        {
          "output_type": "stream",
          "text": [
            "/usr/local/lib/python3.6/dist-packages/IPython/core/pylabtools.py:125: MatplotlibDeprecationWarning: Support for uppercase single-letter colors is deprecated since Matplotlib 3.1 and will be removed in 3.3; please use lowercase instead.\n",
            "  fig.canvas.print_figure(bytes_io, **kw)\n"
          ],
          "name": "stderr"
        },
        {
          "output_type": "display_data",
          "data": {
            "image/png": "[encoded data removed]",
            "text/plain": [
              "<Figure size 288x288 with 1 Axes>"
            ]
          },
          "metadata": {
            "tags": [],
            "needs_background": "light"
          }
        }
      ]
    },
    {
      "cell_type": "code",
      "metadata": {
        "id": "KZpEvD0Zp74E",
        "colab_type": "code",
        "colab": {
          "base_uri": "https://localhost:8080/",
          "height": 68
        },
        "outputId": "20958b38-4fa6-434f-9ff5-d47a54eed485"
      },
      "source": [
        "import mlxtend\n",
        "                                                          \n",
        "print(mlxtend.__version__) \n",
        "\n",
        "!pip install mlxtend --upgrade --no-deps\n",
        "\n",
        "print(mlxtend.__version__) "
      ],
      "execution_count": 7,
      "outputs": [
        {
          "output_type": "stream",
          "text": [
            "0.17.3\n",
            "Requirement already up-to-date: mlxtend in /usr/local/lib/python3.6/dist-packages (0.17.3)\n",
            "0.17.3\n"
          ],
          "name": "stdout"
        }
      ]
    }
  ]
}