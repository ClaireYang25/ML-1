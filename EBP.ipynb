{
  "nbformat": 4,
  "nbformat_minor": 0,
  "metadata": {
    "colab": {
      "name": "EBP.ipynb",
      "provenance": [],
      "collapsed_sections": [],
      "authorship_tag": "ABX9TyP520+T3acRmb5Wh21lTEzb",
      "include_colab_link": true
    },
    "kernelspec": {
      "name": "python3",
      "display_name": "Python 3"
    }
  },
  "cells": [
    {
      "cell_type": "markdown",
      "metadata": {
        "id": "view-in-github",
        "colab_type": "text"
      },
      "source": [
        "<a href=\"https://colab.research.google.com/github/ibribr/ML/blob/master/EBP.ipynb\" target=\"_parent\"><img src=\"https://colab.research.google.com/assets/colab-badge.svg\" alt=\"Open In Colab\"/></a>"
      ]
    },
    {
      "cell_type": "code",
      "metadata": {
        "id": "ule6-mExmrud",
        "colab_type": "code",
        "colab": {}
      },
      "source": [
        "#Error backpropagation algorithim for Multilayer Perceptron (MLP): one hidden layer - tested with IRIS dataset\n",
        "# Ibrahim A. Hameed,  09.09.2020  NTNU in Ålesund Norway\n",
        "import numpy as np\n",
        "import matplotlib.pyplot as plt\n",
        "import random \n",
        "from keras.utils import to_categorical"
      ],
      "execution_count": 3,
      "outputs": []
    },
    {
      "cell_type": "code",
      "metadata": {
        "id": "56Uled8Vm6L_",
        "colab_type": "code",
        "colab": {}
      },
      "source": [
        "class feed_forward(object):\n",
        "  \n",
        "  def __init__(self, eta = 0.01, epochs = 100, n_hidden_layer=10, seed=None, shuffle=True, validate=0.2, test=0.2):\n",
        "    self.eta = eta\n",
        "    self.epochs = epochs\n",
        "    self.n_hidden_layer = n_hidden_layer\n",
        "    self.random = np.random.RandomState(seed)\n",
        "    self.shuffle = shuffle\n",
        "    self.validate = validate\n",
        "    self.test = test\n",
        "    self.eval_ = {'train_acc': [], 'valid_acc': [], 'test_acc': []}    \n",
        "  \n",
        "  def __shuffle(self, x, y):\n",
        "    indx = self.random.permutation(len(y))\n",
        "    return x[indx], y[indx]\n",
        "\n",
        "  def fit(self, x, y):\n",
        "    # x is n_samples * n_features\n",
        "    # y is n_samples of n_classes\n",
        "    \n",
        "    # shuffle the dataset\n",
        "    if self.shuffle:\n",
        "      x, y = self.__shuffle(x,y)\n",
        " \n",
        "    n_samples = x.shape[0]\n",
        "    n_features = x.shape[1]\n",
        "    # one-hot encoding of y\n",
        "    n_classes = np.unique(y).shape[0]\n",
        "    y = to_categorical(y, num_classes=n_classes)\n",
        "\n",
        "    # divide data into training and testing sets\n",
        "    train_index = int((1-self.test)*n_samples)\n",
        "    xtrain, ytrain, xtest, ytest = x[0:train_index], y[0:train_index], x[train_index:], y[train_index:]\n",
        "    \n",
        "    # divide training set into training and validation sets\n",
        "    train_index = int((1-self.validate)*xtrain.shape[0])\n",
        "    xtrain, ytrain, xvalid, yvalid = xtrain[0:train_index], ytrain[0:train_index], xtrain[train_index:], ytrain[train_index:]\n",
        "    \n",
        "    # weights and bias of hidden layer\n",
        "    self.wh_ = self.random.normal(loc = 0.0, scale = 1.0, size =(n_features, self.n_hidden_layer))\n",
        "    self.bh_ = self.random.normal(loc = 0.0, scale = 1.0, size =(self.n_hidden_layer))\n",
        "\n",
        "    # weights and bias of output layer\n",
        "    self.wo_ = self.random.normal(loc = 0.0, scale = 1.0, size =(self.n_hidden_layer, n_classes))\n",
        "    self.bo_ = self.random.normal(loc = 0.0, scale = 1.0, size =(n_classes))\n",
        "\n",
        "    # SGD\n",
        "    for i in range(self.epochs):\n",
        "      for xi, ti in zip(xtrain,ytrain):\n",
        "        net_h = np.dot(xi, self.wh_)+self.bh_\n",
        "        output_h = 1./(1.+np.exp(-net_h))\n",
        "        net_o = np.dot(output_h,self.wo_)+self.bo_\n",
        "        output = 1./(1.+np.exp(-net_o))\n",
        "\n",
        "        # update weights of output layer\n",
        "        delta_o = np.multiply((output - ti), output * (1.-output))\n",
        "        delta_h = np.dot(self.wo_, delta_o)\n",
        "        delta_h = np.multiply(delta_h, output_h*(1.-output_h))\n",
        "        \n",
        "        self.wh_ += -self.eta * np.dot(xi.reshape(n_features,1), delta_h.reshape(1, self.n_hidden_layer))\n",
        "        self.bh_ += -self.eta * delta_h  \n",
        "\n",
        "        self.wo_ += -self.eta * np.dot(output_h.reshape(self.n_hidden_layer,1), delta_o.reshape(1, n_classes))\n",
        "        self.bo_ += -self.eta * delta_o\n",
        "      \n",
        "      #evaluate after each epoch (training, and validation errors)\n",
        "      ytrain_pred = self.predict(xtrain)\n",
        "      yvalid_pred = self.predict(xvalid)\n",
        "      ytest_pred = self.predict(xtest)\n",
        "      train_acc = np.sum(np.argmax(ytrain, axis=1)==ytrain_pred).astype(np.float)/xtrain.shape[0]\n",
        "      valid_acc = np.sum(np.argmax(yvalid, axis=1)==yvalid_pred).astype(np.float)/xvalid.shape[0]\n",
        "      test_acc = np.sum(np.argmax(ytest, axis=1)==ytest_pred).astype(np.float)/xtest.shape[0]\n",
        "      self.eval_['train_acc'].append(train_acc)\n",
        "      self.eval_['valid_acc'].append(valid_acc)\n",
        "      self.eval_['test_acc'].append(test_acc)\n",
        "      \n",
        "    return self\n",
        "\n",
        "  def predict(self, x):\n",
        "    net_h = np.dot(x, self.wh_) + self.bh_\n",
        "    output_h = 1/(1+np.exp(-net_h))\n",
        "    net_o = np.dot(output_h,self.wo_)+self.bo_\n",
        "    output = 1/(1+np.exp(-net_o))\n",
        "    #print(output)\n",
        "    y_pred = np.argmax(output, axis = 1)\n",
        "    #print(y_pred)\n",
        "    return(y_pred)\n",
        "\n",
        "\n"
      ],
      "execution_count": 4,
      "outputs": []
    },
    {
      "cell_type": "code",
      "metadata": {
        "id": "W_AMFWK3apzt",
        "colab_type": "code",
        "colab": {
          "base_uri": "https://localhost:8080/",
          "height": 296
        },
        "outputId": "d4ce700b-637b-4fef-b1a1-4f3409d7ef39"
      },
      "source": [
        "from sklearn.datasets import load_iris\n",
        "\n",
        "iris = load_iris()\n",
        "#x = iris.data[0:100,[2,3]]     # petal length and petal width\n",
        "#x = (x-np.min(x, axis=0))/(np.max(x, axis=0)-np.min(x, axis=0))\n",
        "#y = iris.target[0:100]\n",
        "\n",
        "x = iris.data     # petal length and petal width\n",
        "x = (x-np.min(x, axis=0))/(np.max(x, axis=0)-np.min(x, axis=0))\n",
        "y = iris.target\n",
        "\n",
        "model =feed_forward(eta=0.05, epochs=100, shuffle=True, n_hidden_layer=4,validate=0.2, seed=30)\n",
        "model.fit(x,y)\n",
        "y_pred = model.predict(x)\n",
        "accuracy = np.mean(model.eval_['test_acc'])\n",
        "print('Test Accuracy (%): ', accuracy*100)\n",
        "\n",
        "plt.figure()\n",
        "plt.plot(np.arange(model.epochs), model.eval_['train_acc'], linestyle='-', marker='o', color='b',label='training')\n",
        "plt.plot(np.arange(model.epochs), model.eval_['valid_acc'],linestyle='-', marker='.', color='g',label='validation')\n",
        "plt.plot(np.arange(model.epochs), model.eval_['test_acc'],linestyle='-', marker='+', color='m',label='test')\n",
        "plt.xlabel('Epochs')\n",
        "plt.ylabel('Accuracy')\n",
        "plt.legend(loc='lower right')\n",
        "plt.grid()\n",
        "plt.show()"
      ],
      "execution_count": 27,
      "outputs": [
        {
          "output_type": "stream",
          "text": [
            "Test Accuracy (%):  90.2666666666667\n"
          ],
          "name": "stdout"
        },
        {
          "output_type": "display_data",
          "data": {
            "image/png": "[encoded data removed]",
            "text/plain": [
              "<Figure size 432x288 with 1 Axes>"
            ]
          },
          "metadata": {
            "tags": [],
            "needs_background": "light"
          }
        }
      ]
    }
  ]
}