{
  "nbformat": 4,
  "nbformat_minor": 0,
  "metadata": {
    "colab": {
      "name": "logistic_regresion_iris.ipynb",
      "provenance": [],
      "collapsed_sections": [],
      "mount_file_id": "1e4JBrBDPzx3Ct9wTRPaMydDcAZ6sELUr",
      "authorship_tag": "ABX9TyOA8ca78UpwahH5S7H/jdC0",
      "include_colab_link": true
    },
    "kernelspec": {
      "name": "python3",
      "display_name": "Python 3"
    }
  },
  "cells": [
    {
      "cell_type": "markdown",
      "metadata": {
        "id": "view-in-github",
        "colab_type": "text"
      },
      "source": [
        "<a href=\"https://colab.research.google.com/github/ibribr/ML/blob/master/logistic_regresion_iris.ipynb\" target=\"_parent\"><img src=\"https://colab.research.google.com/assets/colab-badge.svg\" alt=\"Open In Colab\"/></a>"
      ]
    },
    {
      "cell_type": "code",
      "metadata": {
        "id": "clE5wS-1-0XV",
        "colab_type": "code",
        "colab": {}
      },
      "source": [
        "# implement a perceptron to classifiy iris using Scikit-Learn\n",
        "import numpy as np\n",
        "from sklearn import datasets\n",
        "import matplotlib.pyplot as plt\n",
        "from sklearn.linear_model import LogisticRegression\n",
        "from sklearn.preprocessing import StandardScaler"
      ],
      "execution_count": 31,
      "outputs": []
    },
    {
      "cell_type": "code",
      "metadata": {
        "id": "P1RPnyPEDlbC",
        "colab_type": "code",
        "colab": {
          "base_uri": "https://localhost:8080/",
          "height": 119
        },
        "outputId": "0a2eef2b-dd9a-476f-f969-ae84cb4112ca"
      },
      "source": [
        "iris = datasets.load_iris()\n",
        "x = iris.data\n",
        "y = iris.target\n",
        "\n",
        "print(x[0:5,:])\n",
        "print('Class labels:', np.unique(y))\n",
        "labels = ['setosa', 'versicolor', 'virginica']\n",
        "\n",
        "# standarization \n",
        "sc = StandardScaler()\n",
        "sc.fit(x)   # to estimate mean and standard deviation\n",
        "x = sc.transform(x)"
      ],
      "execution_count": 32,
      "outputs": [
        {
          "output_type": "stream",
          "text": [
            "[[5.1 3.5 1.4 0.2]\n",
            " [4.9 3.  1.4 0.2]\n",
            " [4.7 3.2 1.3 0.2]\n",
            " [4.6 3.1 1.5 0.2]\n",
            " [5.  3.6 1.4 0.2]]\n",
            "Class labels: [0 1 2]\n"
          ],
          "name": "stdout"
        }
      ]
    },
    {
      "cell_type": "code",
      "metadata": {
        "id": "sf15Sl8MKkWO",
        "colab_type": "code",
        "colab": {
          "base_uri": "https://localhost:8080/",
          "height": 102
        },
        "outputId": "ed851a1e-a0bd-4cb6-f446-18080745faa5"
      },
      "source": [
        "# import a model\n",
        "#!pip install ....\n",
        "model = LogisticRegression(C=1, random_state=1)\n",
        "model.fit(x, y)\n",
        "y_pred=model.predict(x)\n",
        "\n",
        "print(model.coef_, model.intercept_)\n",
        "\n",
        "error=np.mean((y-y_pred)**2)\n",
        "print(error)\n",
        "\n",
        "print(np.sum(y!=y_pred))"
      ],
      "execution_count": 33,
      "outputs": [
        {
          "output_type": "stream",
          "text": [
            "[[-1.07404149  1.16006342 -1.93062866 -1.81168873]\n",
            " [ 0.58780051 -0.36182377 -0.36346274 -0.82619289]\n",
            " [ 0.48624098 -0.79823965  2.2940914   2.63788161]] [-0.20531681  2.07486525 -1.86954844]\n",
            "0.02666666666666667\n",
            "4\n"
          ],
          "name": "stdout"
        }
      ]
    }
  ]
}