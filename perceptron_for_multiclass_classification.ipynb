{
  "nbformat": 4,
  "nbformat_minor": 0,
  "metadata": {
    "colab": {
      "name": "perceptron_for_multiclass_classification.ipynb",
      "provenance": [],
      "collapsed_sections": [],
      "authorship_tag": "ABX9TyPo+1mdrUJfXNPp+JC+L/69",
      "include_colab_link": true
    },
    "kernelspec": {
      "name": "python3",
      "display_name": "Python 3"
    }
  },
  "cells": [
    {
      "cell_type": "markdown",
      "metadata": {
        "id": "view-in-github",
        "colab_type": "text"
      },
      "source": [
        "<a href=\"https://colab.research.google.com/github/ibribr/ML/blob/master/perceptron_for_multiclass_classification.ipynb\" target=\"_parent\"><img src=\"https://colab.research.google.com/assets/colab-badge.svg\" alt=\"Open In Colab\"/></a>"
      ]
    },
    {
      "cell_type": "code",
      "metadata": {
        "id": "QC2DPLC4wjHw",
        "colab_type": "code",
        "colab": {}
      },
      "source": [
        "# In this example we will use a perceptron from sklearn to classify three iris classes (setosa, versicolor, and virginica)\n",
        "# upload python liberaries\n",
        "import numpy as np\n",
        "from sklearn import datasets\n",
        "import matplotlib.pyplot as plt"
      ],
      "execution_count": 46,
      "outputs": []
    },
    {
      "cell_type": "code",
      "metadata": {
        "id": "EIu26Kd1xRyy",
        "colab_type": "code",
        "colab": {
          "base_uri": "https://localhost:8080/",
          "height": 68
        },
        "outputId": "2864fc40-bf75-4963-d54e-30335d61b406"
      },
      "source": [
        "# upload your iris datset\n",
        "iris = datasets.load_iris()\n",
        "# select two features\n",
        "x = iris.data[:,[2,3]]   # petal length and petal width\n",
        "y = iris.target\n",
        "print(np.unique(y))\n",
        "print(iris.target_names)\n",
        "print(iris.feature_names)"
      ],
      "execution_count": 48,
      "outputs": [
        {
          "output_type": "stream",
          "text": [
            "[0 1 2]\n",
            "['setosa' 'versicolor' 'virginica']\n",
            "['sepal length (cm)', 'sepal width (cm)', 'petal length (cm)', 'petal width (cm)']\n"
          ],
          "name": "stdout"
        }
      ]
    },
    {
      "cell_type": "code",
      "metadata": {
        "id": "z0XvAhl9yZc9",
        "colab_type": "code",
        "colab": {
          "base_uri": "https://localhost:8080/",
          "height": 34
        },
        "outputId": "0a03fcd7-d1eb-4b38-8b73-830949567d77"
      },
      "source": [
        "# standardize your feature vector\n",
        "from sklearn.preprocessing import StandardScaler\n",
        "sc=StandardScaler()\n",
        "sc.fit(x)\n",
        "xstd=sc.transform(x)\n",
        "print(x[1:2,:], xstd[1:2,:])"
      ],
      "execution_count": 49,
      "outputs": [
        {
          "output_type": "stream",
          "text": [
            "[[1.4 0.2]] [[-1.34022653 -1.3154443 ]]\n"
          ],
          "name": "stdout"
        }
      ]
    },
    {
      "cell_type": "code",
      "metadata": {
        "id": "Ne1V3vIj8869",
        "colab_type": "code",
        "colab": {
          "base_uri": "https://localhost:8080/",
          "height": 34
        },
        "outputId": "2194a682-4895-4713-9e28-8ef1676530b5"
      },
      "source": [
        "#split dataset into training and testing sets\n",
        "from sklearn.model_selection import train_test_split\n",
        "x = xstd\n",
        "xtrain, xtest, ytrain, ytest = train_test_split(x,y,test_size=0.3, random_state=1,stratify=y)\n",
        "\n",
        "print(np.bincount(ytrain), np.bincount(ytest))"
      ],
      "execution_count": 50,
      "outputs": [
        {
          "output_type": "stream",
          "text": [
            "[35 35 35] [15 15 15]\n"
          ],
          "name": "stdout"
        }
      ]
    },
    {
      "cell_type": "code",
      "metadata": {
        "id": "jOrkAMEG93X0",
        "colab_type": "code",
        "colab": {
          "base_uri": "https://localhost:8080/",
          "height": 170
        },
        "outputId": "0a9bb2a2-8959-44fb-d152-78138171e7b2"
      },
      "source": [
        "# select a model for training\n",
        "from sklearn.linear_model import Perceptron\n",
        "model = Perceptron(max_iter=20, eta0=0.002, random_state=1)\n",
        "model.fit(xtrain, ytrain)\n",
        "ypred = model.predict(xtest)\n",
        "missclassified = (ytest != ypred).sum()\n",
        "print('missclassified samples = ', missclassified)\n",
        "print('Model accuracy = ', (len(ytest)-missclassified)/len(ytest)*100)\n",
        "print('Model accuracy = ', model.score(xtest, ytest)*100, '%')\n",
        "\n",
        "print('weights: \\n', model.coef_)\n",
        "print('bias   : \\n', model.intercept_)"
      ],
      "execution_count": 65,
      "outputs": [
        {
          "output_type": "stream",
          "text": [
            "missclassified samples =  2\n",
            "Model accuracy =  95.55555555555556\n",
            "Model accuracy =  95.55555555555556 %\n",
            "weights: \n",
            " [[-0.00220757 -0.00237113]\n",
            " [ 0.00540865 -0.00210787]\n",
            " [ 0.00628849  0.00683785]]\n",
            "bias   : \n",
            " [-0.002 -0.002 -0.008]\n"
          ],
          "name": "stdout"
        }
      ]
    },
    {
      "cell_type": "code",
      "metadata": {
        "id": "XFqi-ke6Afup",
        "colab_type": "code",
        "colab": {
          "base_uri": "https://localhost:8080/",
          "height": 279
        },
        "outputId": "f75c0df7-602e-450a-dc1f-1c1e3bfab54a"
      },
      "source": [
        "# plot decision regions in 2D space\n",
        "x1 = np.arange(x[:,0].min()-1, x[:,0].max()+1, 0.1)\n",
        "x2 = np.arange(x[:,1].min()-1, x[:,1].max()+1, 0.1)\n",
        "x1g, x2g = np.meshgrid(x1, x2)\n",
        "z = model.predict(np.array([x1g.flatten(), x2g.flatten()]).T)\n",
        "plt.contourf(x1g, x2g, z.reshape(x1g.shape))\n",
        "plt.scatter(x[y==0,0],x[y==0,1],color='red', marker='o')\n",
        "plt.scatter(x[y==1,0],x[y==1,1],color='m', marker='d')\n",
        "plt.scatter(x[y==2,0],x[y==2,1],color='blue', marker='+')\n",
        "plt.xlabel('x1')\n",
        "plt.ylabel('x2')\n",
        "plt.show()"
      ],
      "execution_count": 52,
      "outputs": [
        {
          "output_type": "display_data",
          "data": {
            "image/png": "[encoded data removed]",
            "text/plain": [
              "<Figure size 432x288 with 1 Axes>"
            ]
          },
          "metadata": {
            "tags": [],
            "needs_background": "light"
          }
        }
      ]
    }
  ]
}