{
  "nbformat": 4,
  "nbformat_minor": 0,
  "metadata": {
    "colab": {
      "name": "perceptron_iris_scilkit.ipynb",
      "provenance": [],
      "collapsed_sections": [],
      "authorship_tag": "ABX9TyP3qnmxdFhF1Awb1+b2aVtI",
      "include_colab_link": true
    },
    "kernelspec": {
      "name": "python3",
      "display_name": "Python 3"
    }
  },
  "cells": [
    {
      "cell_type": "markdown",
      "metadata": {
        "id": "view-in-github",
        "colab_type": "text"
      },
      "source": [
        "<a href=\"https://colab.research.google.com/github/ibribr/ML/blob/master/perceptron_iris_scilkit.ipynb\" target=\"_parent\"><img src=\"https://colab.research.google.com/assets/colab-badge.svg\" alt=\"Open In Colab\"/></a>"
      ]
    },
    {
      "cell_type": "code",
      "metadata": {
        "id": "clE5wS-1-0XV",
        "colab_type": "code",
        "colab": {}
      },
      "source": [
        "# implement a perceptron to classifiy iris using Scikit-Learn\n",
        "import numpy as np\n",
        "from sklearn import datasets\n",
        "import matplotlib.pyplot as plt\n",
        "from sklearn.linear_model import Perceptron\n",
        "from sklearn.preprocessing import StandardScaler"
      ],
      "execution_count": 58,
      "outputs": []
    },
    {
      "cell_type": "code",
      "metadata": {
        "id": "P1RPnyPEDlbC",
        "colab_type": "code",
        "colab": {
          "base_uri": "https://localhost:8080/",
          "height": 204
        },
        "outputId": "651e399c-610c-4970-ea73-abff43e867f5"
      },
      "source": [
        "iris = datasets.load_iris()\n",
        "x = iris.data[0:100,[2,3]]     # petal length and petal width\n",
        "y = iris.target[0:100]\n",
        "\n",
        "print(x[0:5,:])\n",
        "print('Class labels:', np.unique(y))\n",
        "labels = ['setosa', 'versicolor', 'virginica']\n",
        "\n",
        "# standarization \n",
        "sc = StandardScaler()\n",
        "sc.fit(x)   # to estimate mean and standard deviation\n",
        "xstd = sc.transform(x) \n",
        "print(xstd[0:5,:])"
      ],
      "execution_count": 60,
      "outputs": [
        {
          "output_type": "stream",
          "text": [
            "[[1.4 0.2]\n",
            " [1.4 0.2]\n",
            " [1.3 0.2]\n",
            " [1.5 0.2]\n",
            " [1.4 0.2]]\n",
            "Class labels: [0 1]\n",
            "[[-1.01297765 -1.04211089]\n",
            " [-1.01297765 -1.04211089]\n",
            " [-1.08231219 -1.04211089]\n",
            " [-0.94364311 -1.04211089]\n",
            " [-1.01297765 -1.04211089]]\n"
          ],
          "name": "stdout"
        }
      ]
    },
    {
      "cell_type": "code",
      "metadata": {
        "id": "sf15Sl8MKkWO",
        "colab_type": "code",
        "colab": {
          "base_uri": "https://localhost:8080/",
          "height": 51
        },
        "outputId": "e9cfec25-2f01-469f-d924-35629711c6f7"
      },
      "source": [
        "# import a model\n",
        "#!pip install ....\n",
        "model = Perceptron(max_iter=100, eta0=0.01, random_state=1)\n",
        "model.fit(xstd, y)\n",
        "y_pred=model.predict(xstd)\n",
        "\n",
        "print(model.coef_, model.intercept_)\n",
        "\n",
        "error=np.mean((y-y_pred)**2)\n",
        "print(error)"
      ],
      "execution_count": 64,
      "outputs": [
        {
          "output_type": "stream",
          "text": [
            "[[0.01664029 0.00711338]] [0.]\n",
            "0.0\n"
          ],
          "name": "stdout"
        }
      ]
    },
    {
      "cell_type": "code",
      "metadata": {
        "id": "3c3lYdwFTGY_",
        "colab_type": "code",
        "colab": {
          "base_uri": "https://localhost:8080/",
          "height": 265
        },
        "outputId": "35bb1019-f552-4282-8f88-fcad5265ad1f"
      },
      "source": [
        "#plot decision line\n",
        "plt.scatter(xstd[y==0,0],xstd[y==0,1], color='red', marker='o',label=labels[0])\n",
        "plt.scatter(xstd[y==1,0],xstd[y==1,1], color='blue', marker='+',label=labels[1])\n",
        "\n",
        "xx = np.arange(xstd[:,0].min(),xstd[:,0].max(),0.1)\n",
        "yy = -model.coef_[0,0]/model.coef_[0,1] * xx - model.intercept_/model.coef_[0,1]\n",
        "plt.plot(xx,yy,'g-')\n",
        "plt.grid()\n",
        "plt.show()"
      ],
      "execution_count": 63,
      "outputs": [
        {
          "output_type": "display_data",
          "data": {
            "image/png": "[encoded data removed]",
            "text/plain": [
              "<Figure size 432x288 with 1 Axes>"
            ]
          },
          "metadata": {
            "tags": [],
            "needs_background": "light"
          }
        }
      ]
    }
  ]
}