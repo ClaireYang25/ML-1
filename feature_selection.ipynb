{
  "nbformat": 4,
  "nbformat_minor": 0,
  "metadata": {
    "colab": {
      "name": "feature_selection.ipynb",
      "provenance": [],
      "collapsed_sections": [],
      "authorship_tag": "ABX9TyMGC7S3edErssRZAEphCU8B",
      "include_colab_link": true
    },
    "kernelspec": {
      "name": "python3",
      "display_name": "Python 3"
    }
  },
  "cells": [
    {
      "cell_type": "markdown",
      "metadata": {
        "id": "view-in-github",
        "colab_type": "text"
      },
      "source": [
        "<a href=\"https://colab.research.google.com/github/ibribr/ML/blob/master/feature_selection.ipynb\" target=\"_parent\"><img src=\"https://colab.research.google.com/assets/colab-badge.svg\" alt=\"Open In Colab\"/></a>"
      ]
    },
    {
      "cell_type": "code",
      "metadata": {
        "id": "gPLqg24qkLQX",
        "colab_type": "code",
        "colab": {}
      },
      "source": [
        "#select K Best\n",
        "import numpy as np\n",
        "import matplotlib.pyplot as plt\n",
        "from sklearn.feature_selection import SelectKBest, f_classif\n",
        "from sklearn.feature_selection import chi2\n",
        "from sklearn.datasets import load_iris"
      ],
      "execution_count": 2,
      "outputs": []
    },
    {
      "cell_type": "code",
      "metadata": {
        "id": "DWYoACdVkvjG",
        "colab_type": "code",
        "colab": {
          "base_uri": "https://localhost:8080/",
          "height": 136
        },
        "outputId": "ce2994b2-7b6f-4afb-f889-a12cb40ab08a"
      },
      "source": [
        "iris = load_iris()\n",
        "x = iris.data\n",
        "y = iris.target\n",
        "\n",
        "#select 2 features with top 2 chi2 or Fisher scores\n",
        "selector = SelectKBest(chi2, k=2) \n",
        "x_new = selector.fit_transform(x, y)\n",
        "\n",
        "scores = selector.scores_\n",
        "ind = np.where(selector.get_support(indices=False))\n",
        "print('All scores                               :', scores)\n",
        "print('Scores of selected features of top scores: ', selector.scores_[selector.get_support()])\n",
        "print('Names of selected features of top scores : ', ind)   # please modify this to return names of selected features\n",
        "\n",
        "print(x.shape)\n",
        "print(x_new.shape)\n",
        "print(iris.feature_names)\n",
        "print(iris.target_names)"
      ],
      "execution_count": 108,
      "outputs": [
        {
          "output_type": "stream",
          "text": [
            "All scores                               : [ 10.81782088   3.7107283  116.31261309  67.0483602 ]\n",
            "Scores of selected features of top scores:  [116.31261309  67.0483602 ]\n",
            "Names of selected features of top scores :  (array([2, 3]),)\n",
            "(150, 4)\n",
            "(150, 2)\n",
            "['sepal length (cm)', 'sepal width (cm)', 'petal length (cm)', 'petal width (cm)']\n",
            "['setosa' 'versicolor' 'virginica']\n"
          ],
          "name": "stdout"
        }
      ]
    }
  ]
}