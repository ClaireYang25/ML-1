{
  "nbformat": 4,
  "nbformat_minor": 0,
  "metadata": {
    "colab": {
      "name": "mnist_cross_validation",
      "provenance": [],
      "authorship_tag": "ABX9TyN6ca5Z79yaaTO8f4PrQqvn",
      "include_colab_link": true
    },
    "kernelspec": {
      "name": "python3",
      "display_name": "Python 3"
    }
  },
  "cells": [
    {
      "cell_type": "markdown",
      "metadata": {
        "id": "view-in-github",
        "colab_type": "text"
      },
      "source": [
        "<a href=\"https://colab.research.google.com/github/ibribr/ML/blob/master/mnist_cross_validation.ipynb\" target=\"_parent\"><img src=\"https://colab.research.google.com/assets/colab-badge.svg\" alt=\"Open In Colab\"/></a>"
      ]
    },
    {
      "cell_type": "code",
      "metadata": {
        "id": "7ElzBFp85xWD",
        "colab_type": "code",
        "colab": {}
      },
      "source": [
        "import numpy as np\n",
        "import matplotlib.pyplot as plt\n",
        "from sklearn.datasets import fetch_openml\n",
        "import random"
      ],
      "execution_count": 2,
      "outputs": []
    },
    {
      "cell_type": "code",
      "metadata": {
        "id": "xt4ZGXWS7DHV",
        "colab_type": "code",
        "colab": {
          "base_uri": "https://localhost:8080/",
          "height": 51
        },
        "outputId": "b9454610-dc2a-4075-ea1f-1d0085a12a1e"
      },
      "source": [
        "mnist = fetch_openml('mnist_784', version=1)\n",
        "mnist.keys()\n",
        "x = mnist.data\n",
        "y = mnist.target\n",
        "y=y.astype(np.uint8())\n",
        "print(x.shape)\n",
        "print(y.shape)\n",
        "\n",
        "# split into training and testing\n",
        "xtrain, xtest, ytrain, ytest = x[:60000], x[60000:], y[:60000], y[60000:]"
      ],
      "execution_count": 11,
      "outputs": [
        {
          "output_type": "stream",
          "text": [
            "(70000, 784)\n",
            "(70000,)\n"
          ],
          "name": "stdout"
        }
      ]
    },
    {
      "cell_type": "code",
      "metadata": {
        "id": "L2_bMX6BzNKn",
        "colab_type": "code",
        "colab": {
          "base_uri": "https://localhost:8080/",
          "height": 262
        },
        "outputId": "758a63b6-b90a-4cdc-8d49-d625f772310d"
      },
      "source": [
        "fig, ax = plt.subplots(3,5)\n",
        "ax = ax.flatten()\n",
        "ims = []\n",
        "for i in range(len(ax)):\n",
        "    ax[i].imshow(x[i].reshape(28,28), cmap='binary', interpolation='nearest', animated=True)\n",
        "    ax[i].set_title(str(y[i]))\n",
        "    ax[i].xaxis.set_visible(False)\n",
        "    ax[i].yaxis.set_visible(False)"
      ],
      "execution_count": 42,
      "outputs": [
        {
          "output_type": "display_data",
          "data": {
            "image/png": "[encoded data removed]",
            "text/plain": [
              "<Figure size 432x288 with 15 Axes>"
            ]
          },
          "metadata": {
            "tags": [],
            "needs_background": "light"
          }
        }
      ]
    },
    {
      "cell_type": "code",
      "metadata": {
        "id": "SwlPHdjxTVR2",
        "colab_type": "code",
        "colab": {
          "base_uri": "https://localhost:8080/",
          "height": 499
        },
        "outputId": "354cb87e-bc6a-424f-c2d9-30cb2ba69b59"
      },
      "source": [
        "# use of stochastic gradient descent SGD classififier (capable of handling large datasets efficently and able to deal with training instances independently - suitable for online learning)\n",
        "from sklearn.linear_model import SGDClassifier\n",
        "from sklearn.metrics import confusion_matrix\n",
        "from matplotlib.colors import ListedColormap\n",
        "\n",
        "model = SGDClassifier(random_state=42, verbose=1, max_iter=10000)\n",
        "model.fit(xtrain, ytrain)\n",
        "y_pred = model.predict(xtest)\n",
        "print('mean accuracy: ', model.score(xtest, ytest))\n",
        "cm = confusion_matrix(ytest, y_pred)\n",
        "\n",
        "cmap = ListedColormap([\"darkorange\", \"gold\", \"lawngreen\", \"lightseagreen\"])\n",
        "\n",
        "plt.figure()\n",
        "plt.matshow(cm, cmap=cmap)\n",
        "for i in range(cm.shape[0]):\n",
        "  for j in range(cm.shape[1]):\n",
        "    plt.text(x=j, y=i, s=cm[i,j],va='center',ha='center')\n",
        "\n",
        "plt.title('MNIST')\n",
        "plt.xlabel('Predicted digits')\n",
        "plt.ylabel('True digits')\n",
        "plt.show()\n",
        "\n",
        "print(model.coef_)\n",
        "print(model.intercept_)"
      ],
      "execution_count": 33,
      "outputs": [
        {
          "output_type": "stream",
          "text": [
            "mean accuracy:  0.874\n"
          ],
          "name": "stdout"
        },
        {
          "output_type": "display_data",
          "data": {
            "text/plain": [
              "<Figure size 432x288 with 0 Axes>"
            ]
          },
          "metadata": {
            "tags": []
          }
        },
        {
          "output_type": "display_data",
          "data": {
            "image/png": "[encoded data removed]",
            "text/plain": [
              "<Figure size 288x288 with 1 Axes>"
            ]
          },
          "metadata": {
            "tags": [],
            "needs_background": "light"
          }
        },
        {
          "output_type": "stream",
          "text": [
            "[[0. 0. 0. ... 0. 0. 0.]\n",
            " [0. 0. 0. ... 0. 0. 0.]\n",
            " [0. 0. 0. ... 0. 0. 0.]\n",
            " ...\n",
            " [0. 0. 0. ... 0. 0. 0.]\n",
            " [0. 0. 0. ... 0. 0. 0.]\n",
            " [0. 0. 0. ... 0. 0. 0.]]\n",
            "[ -214.23804761   -31.47820709  -243.39283758  -412.61204135\n",
            "  -161.56175199   103.02146015  -245.40214746   -32.70213188\n",
            " -1297.23305113  -570.06078343]\n"
          ],
          "name": "stdout"
        }
      ]
    },
    {
      "cell_type": "code",
      "metadata": {
        "id": "ad8l1NBHrra9",
        "colab_type": "code",
        "colab": {}
      },
      "source": [
        "# cross-validation\n",
        "from sklearn.model_selection import cross_val_score\n",
        "\n",
        "model = SGDClassifier(random_state=42, verbose=1, max_iter=10000)\n",
        "sc = cross_val_score(model, x, y, cv=5, scoring='accuracy')\n",
        "print('average accuracy = ', sc.mean)\n",
        "\n",
        "model.fit(x,y)\n",
        "y_pred = model.predict(xtest)\n",
        "cm = confusion_matrix(ytest, y_pred)\n",
        "\n",
        "cmap = ListedColormap([\"darkorange\", \"gold\", \"lawngreen\", \"lightseagreen\"])\n",
        "\n",
        "plt.figure()\n",
        "plt.matshow(cm, cmap=cmap)\n",
        "for i in range(cm.shape[0]):\n",
        "  for j in range(cm.shape[1]):\n",
        "    plt.text(x=j, y=i, s=cm[i,j],va='center',ha='center')\n",
        "\n",
        "plt.title('MNIST')\n",
        "plt.xlabel('Predicted digits')\n",
        "plt.ylabel('True digits')\n",
        "plt.show()"
      ],
      "execution_count": null,
      "outputs": []
    },
    {
      "cell_type": "code",
      "metadata": {
        "id": "avBPVPbTa124",
        "colab_type": "code",
        "colab": {
          "base_uri": "https://localhost:8080/",
          "height": 51
        },
        "outputId": "3efa838a-e8da-4eab-ab6c-b0e7e604ec2b"
      },
      "source": [
        "print(sc)\n",
        "print(sc.mean())"
      ],
      "execution_count": 49,
      "outputs": [
        {
          "output_type": "stream",
          "text": [
            "[0.88014286 0.84171429 0.86507143 0.86721429 0.881     ]\n",
            "0.8670285714285715\n"
          ],
          "name": "stdout"
        }
      ]
    },
    {
      "cell_type": "code",
      "metadata": {
        "id": "IHVPlZFHcm0y",
        "colab_type": "code",
        "colab": {
          "base_uri": "https://localhost:8080/",
          "height": 312
        },
        "outputId": "96877d91-d7f1-48b6-bef7-5549ff6e7814"
      },
      "source": [
        "# confusion matrix for perfect predictions\n",
        "cm = confusion_matrix(ytest, ytest)\n",
        "\n",
        "cmap = ListedColormap([\"darkorange\", \"gold\", \"lawngreen\", \"lightseagreen\"])\n",
        "\n",
        "plt.figure()\n",
        "plt.matshow(cm, cmap=cmap)\n",
        "for i in range(cm.shape[0]):\n",
        "  for j in range(cm.shape[1]):\n",
        "    plt.text(x=j, y=i, s=cm[i,j],va='center',ha='center')\n",
        "\n",
        "plt.title('MNIST')\n",
        "plt.xlabel('Predicted digits')\n",
        "plt.ylabel('True digits')\n",
        "plt.show()"
      ],
      "execution_count": 50,
      "outputs": [
        {
          "output_type": "display_data",
          "data": {
            "text/plain": [
              "<Figure size 432x288 with 0 Axes>"
            ]
          },
          "metadata": {
            "tags": []
          }
        },
        {
          "output_type": "display_data",
          "data": {
            "image/png": "[encoded data removed]",
            "text/plain": [
              "<Figure size 288x288 with 1 Axes>"
            ]
          },
          "metadata": {
            "tags": [],
            "needs_background": "light"
          }
        }
      ]
    }
  ]
}