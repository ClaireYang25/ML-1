{
  "nbformat": 4,
  "nbformat_minor": 0,
  "metadata": {
    "colab": {
      "name": "Reuters.ipynb",
      "provenance": [],
      "collapsed_sections": [],
      "authorship_tag": "ABX9TyNsl0WO44yEBf0Q2M9F+whM",
      "include_colab_link": true
    },
    "kernelspec": {
      "name": "python3",
      "display_name": "Python 3"
    }
  },
  "cells": [
    {
      "cell_type": "markdown",
      "metadata": {
        "id": "view-in-github",
        "colab_type": "text"
      },
      "source": [
        "<a href=\"https://colab.research.google.com/github/ibribr/ML/blob/master/Reuters.ipynb\" target=\"_parent\"><img src=\"https://colab.research.google.com/assets/colab-badge.svg\" alt=\"Open In Colab\"/></a>"
      ]
    },
    {
      "cell_type": "code",
      "metadata": {
        "id": "D6q7yKIN-NPa",
        "colab_type": "code",
        "colab": {}
      },
      "source": [
        "# classification of Reuters dataset into 46 labels\n",
        "import numpy as np\n",
        "import matplotlib.pyplot as plt\n",
        "from keras.datasets import reuters\n",
        "from keras.utils import to_categorical\n",
        "from keras.models import Sequential\n",
        "from keras.layers import Dense"
      ],
      "execution_count": 39,
      "outputs": []
    },
    {
      "cell_type": "code",
      "metadata": {
        "id": "m9VkctkJ-zeq",
        "colab_type": "code",
        "colab": {}
      },
      "source": [
        "(xtrain, ytrain),(xtest, ytest)=reuters.load_data(num_words=10000)\n",
        "\n",
        "#print(xtrain[0])\n",
        "\n",
        "word_index = reuters.get_word_index()\n",
        "reverse_word_index = dict([(value, key) for (key, value) in word_index.items()])\n",
        "decoded_newswire = ' '.join([reverse_word_index.get(i - 3, '?') for i in xtrain[0]])\n",
        "# Note that the indices are offset by 3 because 0, 1, and 2 are reserved indices for “padding,” “start of sequence,” and “unknown.”\n",
        "#print(decoded_newswire)\n",
        "\n",
        "# vectorize the data\n",
        "def vectorize(sequences, dimension=10000):\n",
        "  results = np.zeros((len(sequences), dimension))\n",
        "  for i, sequence in enumerate(sequences):\n",
        "    results[i, sequence] = 1.\n",
        "  return results\n",
        "\n",
        "x_train = vectorize(xtrain)\n",
        "x_test = vectorize(xtest)\n",
        "\n",
        "import sys\n",
        "np.set_printoptions(threshold=sys.maxsize)  # to print max\n",
        "#print(x_train[0])\n",
        "#print(ytrain[0])\n",
        "\n",
        "y_train = to_categorical(ytrain)\n",
        "y_test = to_categorical(ytest)\n",
        "\n",
        "#print(y_train[0])\n"
      ],
      "execution_count": 31,
      "outputs": []
    },
    {
      "cell_type": "code",
      "metadata": {
        "id": "T2xpZ4yrUtgB",
        "colab_type": "code",
        "colab": {
          "base_uri": "https://localhost:8080/",
          "height": 916
        },
        "outputId": "4f237f0c-5fee-49d3-969c-caf09625616b"
      },
      "source": [
        "model = Sequential()\n",
        "model.add(Dense(128, activation='relu', input_shape=(10000,)))\n",
        "model.add(Dense(32, activation='relu'))\n",
        "model.add(Dense(46, activation='softmax'))\n",
        "\n",
        "model.compile(optimizer='rmsprop', loss='categorical_crossentropy', metrics=['accuracy'])\n",
        "model.summary()\n",
        "history = model.fit(x_train, y_train, epochs=20, batch_size=128, verbose=1, validation_split=0.2)"
      ],
      "execution_count": 33,
      "outputs": [
        {
          "output_type": "stream",
          "text": [
            "Model: \"sequential_3\"\n",
            "_________________________________________________________________\n",
            "Layer (type)                 Output Shape              Param #   \n",
            "=================================================================\n",
            "dense_9 (Dense)              (None, 128)               1280128   \n",
            "_________________________________________________________________\n",
            "dense_10 (Dense)             (None, 32)                4128      \n",
            "_________________________________________________________________\n",
            "dense_11 (Dense)             (None, 46)                1518      \n",
            "=================================================================\n",
            "Total params: 1,285,774\n",
            "Trainable params: 1,285,774\n",
            "Non-trainable params: 0\n",
            "_________________________________________________________________\n",
            "Epoch 1/20\n",
            "57/57 [==============================] - 2s 30ms/step - loss: 1.8391 - accuracy: 0.6308 - val_loss: 1.2606 - val_accuracy: 0.7234\n",
            "Epoch 2/20\n",
            "57/57 [==============================] - 2s 27ms/step - loss: 0.9060 - accuracy: 0.8039 - val_loss: 1.0604 - val_accuracy: 0.7702\n",
            "Epoch 3/20\n",
            "57/57 [==============================] - 2s 27ms/step - loss: 0.5862 - accuracy: 0.8756 - val_loss: 0.9596 - val_accuracy: 0.7869\n",
            "Epoch 4/20\n",
            "57/57 [==============================] - 2s 26ms/step - loss: 0.3985 - accuracy: 0.9161 - val_loss: 0.9268 - val_accuracy: 0.7980\n",
            "Epoch 5/20\n",
            "57/57 [==============================] - 2s 26ms/step - loss: 0.2864 - accuracy: 0.9390 - val_loss: 0.9469 - val_accuracy: 0.7885\n",
            "Epoch 6/20\n",
            "57/57 [==============================] - 2s 27ms/step - loss: 0.2252 - accuracy: 0.9485 - val_loss: 1.0232 - val_accuracy: 0.7841\n",
            "Epoch 7/20\n",
            "57/57 [==============================] - 2s 27ms/step - loss: 0.1795 - accuracy: 0.9562 - val_loss: 1.0878 - val_accuracy: 0.7913\n",
            "Epoch 8/20\n",
            "57/57 [==============================] - 2s 27ms/step - loss: 0.1614 - accuracy: 0.9577 - val_loss: 1.0985 - val_accuracy: 0.7835\n",
            "Epoch 9/20\n",
            "57/57 [==============================] - 2s 27ms/step - loss: 0.1493 - accuracy: 0.9594 - val_loss: 1.1248 - val_accuracy: 0.7824\n",
            "Epoch 10/20\n",
            "57/57 [==============================] - 2s 27ms/step - loss: 0.1371 - accuracy: 0.9608 - val_loss: 1.1548 - val_accuracy: 0.7891\n",
            "Epoch 11/20\n",
            "57/57 [==============================] - 2s 27ms/step - loss: 0.1312 - accuracy: 0.9613 - val_loss: 1.2374 - val_accuracy: 0.7869\n",
            "Epoch 12/20\n",
            "57/57 [==============================] - 2s 27ms/step - loss: 0.1209 - accuracy: 0.9605 - val_loss: 1.2815 - val_accuracy: 0.7824\n",
            "Epoch 13/20\n",
            "57/57 [==============================] - 2s 28ms/step - loss: 0.1209 - accuracy: 0.9606 - val_loss: 1.3920 - val_accuracy: 0.7691\n",
            "Epoch 14/20\n",
            "57/57 [==============================] - 2s 27ms/step - loss: 0.1122 - accuracy: 0.9620 - val_loss: 1.2405 - val_accuracy: 0.7846\n",
            "Epoch 15/20\n",
            "57/57 [==============================] - 2s 27ms/step - loss: 0.1108 - accuracy: 0.9621 - val_loss: 1.3688 - val_accuracy: 0.7713\n",
            "Epoch 16/20\n",
            "57/57 [==============================] - 2s 27ms/step - loss: 0.1072 - accuracy: 0.9605 - val_loss: 1.3615 - val_accuracy: 0.7880\n",
            "Epoch 17/20\n",
            "57/57 [==============================] - 2s 27ms/step - loss: 0.1046 - accuracy: 0.9628 - val_loss: 1.4096 - val_accuracy: 0.7724\n",
            "Epoch 18/20\n",
            "57/57 [==============================] - 2s 27ms/step - loss: 0.0978 - accuracy: 0.9631 - val_loss: 1.5234 - val_accuracy: 0.7579\n",
            "Epoch 19/20\n",
            "57/57 [==============================] - 2s 27ms/step - loss: 0.0981 - accuracy: 0.9617 - val_loss: 1.4954 - val_accuracy: 0.7852\n",
            "Epoch 20/20\n",
            "57/57 [==============================] - 2s 27ms/step - loss: 0.0958 - accuracy: 0.9613 - val_loss: 1.5321 - val_accuracy: 0.7769\n"
          ],
          "name": "stdout"
        }
      ]
    },
    {
      "cell_type": "code",
      "metadata": {
        "id": "5XyKZl_LWV3E",
        "colab_type": "code",
        "colab": {
          "base_uri": "https://localhost:8080/",
          "height": 100
        },
        "outputId": "7c676057-befe-4332-882e-45964a0ea372"
      },
      "source": [
        "y_pred = np.argmax(model.predict(x_test), axis=0)\n",
        "\n",
        "pred_error = np.sum(y_pred != ytest)/len(ytest) * 100\n",
        "\n",
        "print(ytest[0:5])\n",
        "print(y_pred[0:5])\n",
        "\n",
        "print(pred_error)"
      ],
      "execution_count": 29,
      "outputs": [
        {
          "output_type": "stream",
          "text": [
            "[ 3 10  1  4  4]\n",
            "[1696 1013 1634  105   69]\n",
            "0.04452359750667854\n"
          ],
          "name": "stdout"
        },
        {
          "output_type": "stream",
          "text": [
            "/usr/local/lib/python3.6/dist-packages/ipykernel_launcher.py:3: DeprecationWarning: elementwise comparison failed; this will raise an error in the future.\n",
            "  This is separate from the ipykernel package so we can avoid doing imports until\n"
          ],
          "name": "stderr"
        }
      ]
    },
    {
      "cell_type": "code",
      "metadata": {
        "id": "1coUMuPstNQO",
        "colab_type": "code",
        "colab": {
          "base_uri": "https://localhost:8080/",
          "height": 673
        },
        "outputId": "6f62ddc8-1939-4e0c-e768-5d9e51d682f7"
      },
      "source": [
        "print(history.history.keys())\n",
        "loss = history.history['loss']\n",
        "print(np.mean(loss))\n",
        "accuracy = history.history['accuracy']\n",
        "val_loss = history.history['val_loss']\n",
        "val_accuracy = history.history['val_accuracy']\n",
        "\n",
        "print('Training and validation loss    : ', np.mean(loss), np.mean(val_loss))\n",
        "print('Training and validation accuracy: ', np.mean(accuracy), np.mean(val_accuracy))\n",
        "\n",
        "y_pred = model.predict(x_test)\n",
        "score = model.evaluate(x_test, y_test)\n",
        "print('accuracy :', score)\n",
        "\n",
        "epochs = range(1, len(loss)+1)\n",
        "\n",
        "plt.figure()\n",
        "plt.plot(epochs, loss, 'bo', label='Training loss')\n",
        "plt.plot(epochs, val_loss, 'b', label='Validation loss')\n",
        "plt.title('Training and validation loss')\n",
        "plt.xlabel('Epochs')\n",
        "plt.ylabel('Loss')\n",
        "plt.legend()\n",
        "plt.grid()\n",
        "\n",
        "plt.figure()\n",
        "plt.plot(epochs, accuracy, 'bo', label='Training accuracy')\n",
        "plt.plot(epochs, val_accuracy, 'b', label='Validation accuracy')\n",
        "plt.title('Training and validation accuracy')\n",
        "plt.xlabel('Epochs')\n",
        "plt.ylabel('Accuracy')\n",
        "plt.legend()\n",
        "plt.grid()\n"
      ],
      "execution_count": 48,
      "outputs": [
        {
          "output_type": "stream",
          "text": [
            "dict_keys(['loss', 'accuracy', 'val_loss', 'val_accuracy'])\n",
            "0.2984030667692423\n",
            "Training and validation loss    :  0.2984030667692423 1.2242771685123444\n",
            "Training and validation accuracy:  0.928190678358078 0.7786032289266587\n",
            "71/71 [==============================] - 0s 3ms/step - loss: 1.6372 - accuracy: 0.7685\n",
            "accuracy : [1.6371662616729736, 0.7684773206710815]\n"
          ],
          "name": "stdout"
        },
        {
          "output_type": "display_data",
          "data": {
            "image/png": "[encoded data removed]",
            "text/plain": [
              "<Figure size 432x288 with 1 Axes>"
            ]
          },
          "metadata": {
            "tags": [],
            "needs_background": "light"
          }
        },
        {
          "output_type": "display_data",
          "data": {
            "image/png": "[encoded data removed]",
            "text/plain": [
              "<Figure size 432x288 with 1 Axes>"
            ]
          },
          "metadata": {
            "tags": [],
            "needs_background": "light"
          }
        }
      ]
    }
  ]
}