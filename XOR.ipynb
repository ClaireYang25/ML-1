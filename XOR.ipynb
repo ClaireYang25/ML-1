{
  "nbformat": 4,
  "nbformat_minor": 0,
  "metadata": {
    "colab": {
      "name": "XOR.ipynb",
      "provenance": [],
      "include_colab_link": true
    },
    "kernelspec": {
      "name": "python3",
      "display_name": "Python 3"
    }
  },
  "cells": [
    {
      "cell_type": "markdown",
      "metadata": {
        "id": "view-in-github",
        "colab_type": "text"
      },
      "source": [
        "<a href=\"https://colab.research.google.com/github/ibribr/ML/blob/master/XOR.ipynb\" target=\"_parent\"><img src=\"https://colab.research.google.com/assets/colab-badge.svg\" alt=\"Open In Colab\"/></a>"
      ]
    },
    {
      "cell_type": "code",
      "metadata": {
        "id": "eURo6SABJLqd",
        "colab_type": "code",
        "colab": {}
      },
      "source": [
        "from sklearn.neural_network import MLPClassifier\n",
        "import matplotlib.pyplot as plt\n",
        "import numpy as np\n"
      ],
      "execution_count": 3,
      "outputs": []
    },
    {
      "cell_type": "code",
      "metadata": {
        "id": "F3mQl8BDR-hm",
        "colab_type": "code",
        "colab": {
          "base_uri": "https://localhost:8080/",
          "height": 102
        },
        "outputId": "4d91b99d-5d83-4399-f88a-005a4c3f566a"
      },
      "source": [
        "inputs = np.array([[0,0],[0,1],[1,0],[1,1]])\n",
        "expected_output = np.array([0,1,1,0])\n",
        "\n",
        "model = MLPClassifier(activation='logistic',max_iter=10000,hidden_layer_sizes=(2,),solver='lbfgs')\n",
        "model.fit(inputs, expected_output)\n",
        "predictions = model.predict(inputs)\n",
        "print('coefs', model.coefs_)\n",
        "print('predictions:', predictions)\n",
        "\n",
        "error = np.sum(expected_output != predictions)\n",
        "print('errors', error)"
      ],
      "execution_count": 6,
      "outputs": [
        {
          "output_type": "stream",
          "text": [
            "coefs [array([[ 6.37443195,  6.52395296],\n",
            "       [-6.31164933, -6.45935144]]), array([[ 14.48740682],\n",
            "       [-14.43937734]])]\n",
            "predictions: [0 1 1 0]\n",
            "errors 0\n"
          ],
          "name": "stdout"
        }
      ]
    }
  ]
}