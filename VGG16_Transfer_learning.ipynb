{
  "nbformat": 4,
  "nbformat_minor": 0,
  "metadata": {
    "colab": {
      "name": "VGG16_Transfer_learning.ipynb",
      "provenance": [],
      "private_outputs": true,
      "collapsed_sections": [],
      "authorship_tag": "ABX9TyMrLS6KAWOlpi7Dk1MkkZcZ",
      "include_colab_link": true
    },
    "kernelspec": {
      "name": "python3",
      "display_name": "Python 3"
    },
    "accelerator": "GPU"
  },
  "cells": [
    {
      "cell_type": "markdown",
      "metadata": {
        "id": "view-in-github",
        "colab_type": "text"
      },
      "source": [
        "<a href=\"https://colab.research.google.com/github/ibribr/ML/blob/master/VGG16_Transfer_learning.ipynb\" target=\"_parent\"><img src=\"https://colab.research.google.com/assets/colab-badge.svg\" alt=\"Open In Colab\"/></a>"
      ]
    },
    {
      "cell_type": "code",
      "metadata": {
        "id": "0uTKDY2Se1ZU"
      },
      "source": [
        "import numpy as np\n",
        "import matplotlib.pyplot as plt\n",
        "from matplotlib.colors import ListedColormap\n",
        "from keras.datasets.mnist import load_data\n",
        "from keras.models import Sequential, load_model\n",
        "from keras.layers import Input, Dense, Flatten\n",
        "from keras.utils import to_categorical\n",
        "from tensorflow.keras.utils import plot_model\n",
        "from sklearn.metrics import confusion_matrix, precision_score, recall_score\n",
        "from keras.applications.vgg16 import VGG16\n"
      ],
      "execution_count": null,
      "outputs": []
    },
    {
      "cell_type": "code",
      "metadata": {
        "id": "kfp6Wow0e2te"
      },
      "source": [
        "(xtrain, ytrain), (xtest, ytest) = load_data()\n",
        "xtrain = xtrain.astype('float32') /255.\n",
        "xtest = xtest.astype('float32') /255.\n",
        "ytrain=to_categorical(ytrain)\n",
        "ytest =to_categorical(ytest)\n",
        "\n",
        "xtrain = xtrain.reshape(60000,28*28)\n",
        "xtest = xtest.reshape(10000, 28*28)"
      ],
      "execution_count": null,
      "outputs": []
    },
    {
      "cell_type": "code",
      "metadata": {
        "id": "mZbstAAke-FG"
      },
      "source": [
        "model = Sequential()\n",
        "model.add(Dense(512, activation='relu', input_shape=(28*28, ), name='hidden_layer'))\n",
        "model.add(Dense(10, activation='softmax', name='output_layer'))\n",
        "model.compile(optimizer='rmsprop', loss='categorical_crossentropy', metrics=['accuracy'])\n",
        "model.summary()\n",
        "plot_model(model, to_file='mnist_keras.png', show_shapes=True, show_layer_names=True)"
      ],
      "execution_count": null,
      "outputs": []
    },
    {
      "cell_type": "code",
      "metadata": {
        "id": "o1nZCFzOfUU8"
      },
      "source": [
        "model.fit(xtrain, ytrain, epochs=10, batch_size=128)\n",
        "test_loss, test_accu = model.evaluate(xtest, ytest)\n",
        "print(test_loss, test_accu)"
      ],
      "execution_count": null,
      "outputs": []
    },
    {
      "cell_type": "code",
      "metadata": {
        "id": "c5L8wZVTfpIO"
      },
      "source": [
        "ypred = model.predict(xtest)\n",
        "\n",
        "predicted_labels = np.argmax(ypred, axis=-1)\n",
        "actual_labels = np.argmax(ytest, axis=-1)\n",
        "\n",
        "print('Precision score:', precision_score(actual_labels, predicted_labels, average='macro'))\n",
        "print('Recall score   :', recall_score(actual_labels, predicted_labels, average='macro'))\n",
        "\n",
        "\n",
        "print('Confusion Matrix')\n",
        "print(confusion_matrix(ytest.argmax(1), ypred.argmax(1)))\n",
        "\n",
        "cmap = ListedColormap(['lightgrey', 'silver', 'ghostwhite', 'lavender', 'wheat'])\n",
        "\n",
        "#confusion matrix\n",
        "def cm(ytest, ypred, title):\n",
        "  cm = confusion_matrix(ytest, ypred)\n",
        "\n",
        "  plt.figure()\n",
        "  plt.matshow(cm, cmap=cmap)\n",
        "  \n",
        "  for i in range(cm.shape[0]):\n",
        "    for j in range(cm.shape[1]):\n",
        "      plt.text(x=j, y=i, s=cm[i,j], va='center', ha='center')\n",
        "  \n",
        "  plt.title(title)\n",
        "  plt.xlabel('Predicted label')\n",
        "  plt.ylabel('True label')\n",
        "  plt.show()\n",
        "\n",
        "cm(ytrain.argmax(1), model.predict(xtrain).argmax(1), title='Train')\n",
        "cm(ytest.argmax(1), model.predict(xtest).argmax(1), title='Test')"
      ],
      "execution_count": null,
      "outputs": []
    },
    {
      "cell_type": "code",
      "metadata": {
        "id": "KeTX52ZKgKgJ"
      },
      "source": [
        "# save your model: creates a h5 file `my_model.h5`.\n",
        "model.save(\"my_h5_model.h5\")\n",
        "\n",
        "# It can be used to reconstruct the model identically.\n",
        "reconstructed_model = load_model(\"my_h5_model.h5\")\n",
        "\n",
        "# test accuracy of this model\n",
        "test_loss, test_accu = reconstructed_model.evaluate(xtest, ytest)\n",
        "print(test_loss, test_accu)"
      ],
      "execution_count": null,
      "outputs": []
    },
    {
      "cell_type": "code",
      "metadata": {
        "id": "pqy7A__Ufshd"
      },
      "source": [
        "# test transfer learning: use a pre-trained model whos input shape is RGB of dim. (224, 224, 3) \n",
        "\n",
        "import cv2\n",
        "import tensorflow as tf\n",
        "from keras.datasets.mnist import load_data\n",
        "import numpy as np\n",
        "import matplotlib.pyplot as plt\n",
        "\n",
        "\n",
        "(xtrain,ytrain), (xtest, ytest) = load_data()\n",
        "\n",
        "\n",
        "width = int(224)\n",
        "height = int(224)\n",
        "dim = (width, height)\n",
        "\n",
        "def rez(images):\n",
        "  resized_images=[]\n",
        "  for i in range(0,images.shape[0]):\n",
        "    resized = cv2.resize(images[i], dim, interpolation = cv2.INTER_AREA)\n",
        "    resized_images.append(resized)\n",
        "  resized_images=np.asanyarray(resized_images)\n",
        "  return resized_images\n",
        "\n",
        "xtrain = rez(xtrain)\n",
        "xtest = rez(xtest)\n",
        "\n",
        "print(xtrain.shape)\n",
        "\n",
        "plt.imshow(xtrain[0])\n",
        "plt.show()\n",
        "\n",
        "xtrain = xtrain.reshape((*xtrain.shape, 1))\n",
        "print(xtrain.shape)\n"
      ],
      "execution_count": null,
      "outputs": []
    },
    {
      "cell_type": "code",
      "metadata": {
        "id": "YU698pyiH454"
      },
      "source": [
        "# convert gray scale images into RGB\n",
        "\n",
        "def gray2rgb(images):\n",
        "  converted_imgs = []\n",
        "  for i in range(0, images.shape[0]):  #images.shape[0]\n",
        "    color_img = cv2.cvtColor(xtrain[i], cv2.COLOR_GRAY2RGB)\n",
        "    converted_imgs.append(color_img)\n",
        "  converted_imgs = np.asarray(converted_imgs)\n",
        "  return converted_imgs\n",
        "\n",
        "xtrain_conv = gray2rgb(xtrain)\n",
        "print(xtrain_conv.shape)\n",
        "\n",
        "plt.imshow(xtrain_conv[0])\n",
        "plt.show()"
      ],
      "execution_count": null,
      "outputs": []
    },
    {
      "cell_type": "code",
      "metadata": {
        "id": "8RhoQ8FO01Sp"
      },
      "source": [
        "# Create the model\n",
        "trans = Sequential()\n",
        "trans.add(VGG16(weights=\"imagenet\", include_top=False, input_shape=(224, 224, 3)))\n",
        "trans.add(Flatten())\n",
        "trans.add(Dense(128, activation=\"relu\"))\n",
        "trans.add(Dense(64, activation=\"relu\"))\n",
        "trans.add(Dense(10, activation=\"sigmoid\"))\n",
        "\n",
        "trans.layers[0].trainable = False\n",
        "\n",
        "trans.summary()\n",
        "plot_model(trans, to_file='trans_mnist_keras.png', show_shapes=True, show_layer_names=True)"
      ],
      "execution_count": null,
      "outputs": []
    },
    {
      "cell_type": "code",
      "metadata": {
        "id": "sHL_pX326Vy9"
      },
      "source": [
        "trans.compile(optimizer='rmsprop', loss='categorical_crossentropy', metrics=['accuracy'])\n",
        "trans.fit(xtrain, ytrain, epochs=10, batch_size=128)\n",
        "test_loss, test_accu = trans.evaluate(xtest, ytest)\n",
        "print(test_loss, test_accu)\n"
      ],
      "execution_count": null,
      "outputs": []
    }
  ]
}