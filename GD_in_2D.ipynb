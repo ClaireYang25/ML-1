{
  "nbformat": 4,
  "nbformat_minor": 0,
  "metadata": {
    "colab": {
      "name": "GD_in_2D.ipynb",
      "provenance": [],
      "authorship_tag": "ABX9TyOfAjOBRHkG0fj4Y3+mMfoX",
      "include_colab_link": true
    },
    "kernelspec": {
      "name": "python3",
      "display_name": "Python 3"
    }
  },
  "cells": [
    {
      "cell_type": "markdown",
      "metadata": {
        "id": "view-in-github",
        "colab_type": "text"
      },
      "source": [
        "<a href=\"https://colab.research.google.com/github/ibribr/ML/blob/master/GD_in_2D.ipynb\" target=\"_parent\"><img src=\"https://colab.research.google.com/assets/colab-badge.svg\" alt=\"Open In Colab\"/></a>"
      ]
    },
    {
      "cell_type": "code",
      "metadata": {
        "id": "mnNIxTLaUp6s",
        "colab_type": "code",
        "colab": {
          "base_uri": "https://localhost:8080/",
          "height": 312
        },
        "outputId": "21657e32-b2ee-4597-b93f-33d1aa7634bf"
      },
      "source": [
        "# implement gradient descent for multivariate function\n",
        "import numpy as np\n",
        "import matplotlib.pyplot as plt\n",
        "\n",
        "def f(x1, x2):\n",
        "  f = 0.5 * (2*np.power(x1,2) + 2*np.dot(x1,x2) + 20*np.power(x2,2)) - 5*x1 -3*x2\n",
        "  return(f)\n",
        "\n",
        "#find x1 and x2 that minimize f(x1, x2)\n",
        "x1 = -3.0\n",
        "x2 = 3.0\n",
        "\n",
        "print(f(x1, x2))\n",
        "\n",
        "x_1 = []\n",
        "x_2 = []\n",
        "max_iter = 100\n",
        "iteration = 0\n",
        "eta = 1e-2\n",
        "while iteration < max_iter:\n",
        "  x1 += - eta *(0.5*(4*x1 + 2*x2) - 5) \n",
        "  x_1.append(x1)\n",
        "  x2 += - eta * (0.5*(2*x1 + 40*x2) - 3)\n",
        "  x_2.append(x2)\n",
        "  iteration += 1\n",
        "\n",
        "# visualize the solution  \n",
        "x1 = np.arange(-4, 4, 0.5)  #np.linspace\n",
        "x2 = np.arange(-4, 4, 0.5)\n",
        "x1g, x2g = np.meshgrid(x1, x2)\n",
        "\n",
        "fig,ax=plt.subplots(1,1)\n",
        "cp = ax.contourf(x1g, x2g, f(x1g, x2g))\n",
        "fig.colorbar(cp) # Add a colorbar to a plot\n",
        "plt.plot(x_1, x_2, 'r-',linewidth=5)\n",
        "ax.set_title('GD Plot')\n",
        "ax.set_xlabel('x1')\n",
        "ax.set_ylabel('x2')\n",
        "plt.show()"
      ],
      "execution_count": 1,
      "outputs": [
        {
          "output_type": "stream",
          "text": [
            "96.0\n"
          ],
          "name": "stdout"
        },
        {
          "output_type": "display_data",
          "data": {
            "image/png": "[encoded data removed]",
            "text/plain": [
              "<Figure size 432x288 with 2 Axes>"
            ]
          },
          "metadata": {
            "tags": [],
            "needs_background": "light"
          }
        }
      ]
    }
  ]
}