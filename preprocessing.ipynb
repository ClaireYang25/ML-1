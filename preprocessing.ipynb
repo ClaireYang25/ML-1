{
  "nbformat": 4,
  "nbformat_minor": 0,
  "metadata": {
    "colab": {
      "name": "preprocessing.ipynb",
      "provenance": [],
      "authorship_tag": "ABX9TyNjlOC4OD29CFqNbE1DQa0H",
      "include_colab_link": true
    },
    "kernelspec": {
      "name": "python3",
      "display_name": "Python 3"
    }
  },
  "cells": [
    {
      "cell_type": "markdown",
      "metadata": {
        "id": "view-in-github",
        "colab_type": "text"
      },
      "source": [
        "<a href=\"https://colab.research.google.com/github/ibribr/ML/blob/master/preprocessing.ipynb\" target=\"_parent\"><img src=\"https://colab.research.google.com/assets/colab-badge.svg\" alt=\"Open In Colab\"/></a>"
      ]
    },
    {
      "cell_type": "code",
      "metadata": {
        "id": "q_F2HEG1nB2I"
      },
      "source": [
        "import numpy as np\n",
        "import matplotlib.pyplot as plt\n",
        "plt.style.use('ggplot')\n",
        "plt.xkcd()\n",
        "%matplotlib inline\n",
        "from sklearn.preprocessing import scale, normalize, MinMaxScaler, Binarizer\n",
        "from sklearn.impute import SimpleImputer  "
      ],
      "execution_count": 14,
      "outputs": []
    },
    {
      "cell_type": "code",
      "metadata": {
        "id": "zZBZ3lBJnjjS",
        "outputId": "24561ea3-eed8-4176-e35f-46c643cdb3a6",
        "colab": {
          "base_uri": "https://localhost:8080/",
          "height": 119
        }
      },
      "source": [
        "# standardization\n",
        "x = np.array([[1, -2, 2],\n",
        "              [3, 0, 0],\n",
        "              [0, 1, -1]])\n",
        "print(x)\n",
        "x_scaled =scale(x)\n",
        "print(x_scaled) "
      ],
      "execution_count": 15,
      "outputs": [
        {
          "output_type": "stream",
          "text": [
            "[[ 1 -2  2]\n",
            " [ 3  0  0]\n",
            " [ 0  1 -1]]\n",
            "[[-0.26726124 -1.33630621  1.33630621]\n",
            " [ 1.33630621  0.26726124 -0.26726124]\n",
            " [-1.06904497  1.06904497 -1.06904497]]\n"
          ],
          "name": "stdout"
        }
      ]
    },
    {
      "cell_type": "code",
      "metadata": {
        "id": "gl0D77dmqB94",
        "outputId": "0d0d361a-ff9e-4016-c164-0285773c1ca3",
        "colab": {
          "base_uri": "https://localhost:8080/",
          "height": 119
        }
      },
      "source": [
        "# normalization\n",
        "x_norm = normalize(x, norm='l1')  # using Manhattan distance\n",
        "print(x_norm)\n",
        "x_norm = normalize(x, norm='l2')  # using Euclidean distance\n",
        "print(x_norm)"
      ],
      "execution_count": 16,
      "outputs": [
        {
          "output_type": "stream",
          "text": [
            "[[ 0.2 -0.4  0.4]\n",
            " [ 1.   0.   0. ]\n",
            " [ 0.   0.5 -0.5]]\n",
            "[[ 0.33333333 -0.66666667  0.66666667]\n",
            " [ 1.          0.          0.        ]\n",
            " [ 0.          0.70710678 -0.70710678]]\n"
          ],
          "name": "stdout"
        }
      ]
    },
    {
      "cell_type": "code",
      "metadata": {
        "id": "OHWR06xAqcZe",
        "outputId": "c24e3cb8-4879-4990-e302-716ed2e3fa0b",
        "colab": {
          "base_uri": "https://localhost:8080/",
          "height": 119
        }
      },
      "source": [
        "# Feature scaling:\n",
        "min_max_scalar = MinMaxScaler(feature_range=(0,1))\n",
        "x_min_max = min_max_scalar.fit_transform(x)\n",
        "print(x_min_max)\n",
        "\n",
        "min_max_scalar = MinMaxScaler(feature_range=(-1,1))\n",
        "x_min_max = min_max_scalar.fit_transform(x)\n",
        "print(x_min_max)"
      ],
      "execution_count": 19,
      "outputs": [
        {
          "output_type": "stream",
          "text": [
            "[[0.33333333 0.         1.        ]\n",
            " [1.         0.66666667 0.33333333]\n",
            " [0.         1.         0.        ]]\n",
            "[[-0.33333333 -1.          1.        ]\n",
            " [ 1.          0.33333333 -0.33333333]\n",
            " [-1.          1.         -1.        ]]\n"
          ],
          "name": "stdout"
        }
      ]
    },
    {
      "cell_type": "code",
      "metadata": {
        "id": "FTSN0Ptmqcc_",
        "outputId": "456500ea-790e-4b54-83f8-6d3582eda18f",
        "colab": {
          "base_uri": "https://localhost:8080/",
          "height": 68
        }
      },
      "source": [
        "# binarizing features\n",
        "binarizer = Binarizer(threshold=0.5)  # values > 0.5 will be converted into 1s, rest are 0s.\n",
        "x_bin = binarizer.transform(x)\n",
        "print(x_bin)"
      ],
      "execution_count": 20,
      "outputs": [
        {
          "output_type": "stream",
          "text": [
            "[[1 0 1]\n",
            " [1 0 0]\n",
            " [0 1 0]]\n"
          ],
          "name": "stdout"
        }
      ]
    },
    {
      "cell_type": "code",
      "metadata": {
        "id": "LZKJQwVY6ziL",
        "outputId": "3ec06cee-1ff6-4935-e2e2-f25c9081dd37",
        "colab": {
          "base_uri": "https://localhost:8080/",
          "height": 272
        }
      },
      "source": [
        "# handling missing values\n",
        "from numpy import nan\n",
        "x = np.array([[nan, 0, 3],\n",
        "             [2, 9, -8],\n",
        "             [1, nan, 1],\n",
        "             [5, 2, 4],\n",
        "             [7, 6, -3]])\n",
        "# replace all nan values with mean value along a specified axis\n",
        "imp = SimpleImputer(missing_values=np.nan, strategy='mean')\n",
        "x_imp = imp.fit_transform(x)\n",
        "print(x_imp)\n",
        "\n",
        "# replace all nan values with median value along a specified axis\n",
        "imp = SimpleImputer(missing_values=np.nan, strategy='median')\n",
        "x_imp = imp.fit_transform(x)\n",
        "print(x_imp)\n",
        "\n",
        "# replace all nan values with the most frequent value along a specified axis\n",
        "imp = SimpleImputer(missing_values=np.nan, strategy='most_frequent')\n",
        "x_imp = imp.fit_transform(x)\n",
        "print(x_imp)\n",
        "\n"
      ],
      "execution_count": 26,
      "outputs": [
        {
          "output_type": "stream",
          "text": [
            "[[ 3.75  0.    3.  ]\n",
            " [ 2.    9.   -8.  ]\n",
            " [ 1.    4.25  1.  ]\n",
            " [ 5.    2.    4.  ]\n",
            " [ 7.    6.   -3.  ]]\n",
            "[[ 3.5  0.   3. ]\n",
            " [ 2.   9.  -8. ]\n",
            " [ 1.   4.   1. ]\n",
            " [ 5.   2.   4. ]\n",
            " [ 7.   6.  -3. ]]\n",
            "[[ 1.  0.  3.]\n",
            " [ 2.  9. -8.]\n",
            " [ 1.  0.  1.]\n",
            " [ 5.  2.  4.]\n",
            " [ 7.  6. -3.]]\n"
          ],
          "name": "stdout"
        }
      ]
    }
  ]
}